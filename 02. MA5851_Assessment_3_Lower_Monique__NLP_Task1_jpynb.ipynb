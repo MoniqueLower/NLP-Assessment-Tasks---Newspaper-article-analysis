{
  "nbformat": 4,
  "nbformat_minor": 0,
  "metadata": {
    "colab": {
      "name": "MA5851 Assessment 3_Lower_Monique_ NLP Task1.jpynb",
      "provenance": [],
      "collapsed_sections": [],
      "toc_visible": true
    },
    "kernelspec": {
      "name": "python3",
      "display_name": "Python 3"
    },
    "language_info": {
      "name": "python"
    }
  },
  "cells": [
    {
      "cell_type": "markdown",
      "source": [
        "#MA5851 Assignment Document 3: NLP Tasks\n",
        "\n",
        "Monique Lower"
      ],
      "metadata": {
        "id": "upv6z2Vr-zYD"
      }
    },
    {
      "cell_type": "markdown",
      "source": [
        "#NLP Task 1 – Topic Modelling"
      ],
      "metadata": {
        "id": "z_QWkmeV_Zup"
      }
    },
    {
      "cell_type": "markdown",
      "source": [
        "\n",
        "##Review and Rational \n",
        "\n",
        "Topic Modelling is an unsupervised technique that seeks to group patterns of words into categories or topics, which then  need to be interpreted by the data scientist in order to complete analysis on the documents that make up the corpus (Jacobi, van Attervelt, & Welbers, 2016). In newspaper analysis, it would be expected that topics would align with categories such as politics, crime, sports, but the Latent Dirichlet allocation (LDA)  algorithm automatically creates topics based on patterns, which means that the resulting categories may not align to issues or themes, but may align with writing styles, events or speech (Jacobi, van Attervelt, & Welbers, 2016). LDA is a modelling technique explaining through unobserved groups, observations based on data similarity, for example basketball or football would show a high probably of alignment to sport, whilst the words network and data would have strong alignment to computers (Tong & Zhang, 2016).\n",
        "This task will consist of LDA Topic Modelling performed on the combined title and description field from the corpus, LDA as a technique is able to reliable produce interpretable groups or topics based on the corpus input into the model, which is ideal for news headlines which will change based on local and world events (Rao & Taboda, 2021).  \n"
      ],
      "metadata": {
        "id": "rFKJfhuA-t-e"
      }
    },
    {
      "cell_type": "markdown",
      "source": [
        "### Setting up the environment\n"
      ],
      "metadata": {
        "id": "T9Yf_EvW_ijQ"
      }
    },
    {
      "cell_type": "code",
      "metadata": {
        "id": "S8Pg-lfI7CNK"
      },
      "source": [
        "from google.colab import drive\n",
        "drive.mount('/content/drive')\n",
        "\n",
        "!pip install --upgrade gensim==3.8\n",
        "\n",
        "import os       #importing os to set environment variable\n",
        "def install_java():\n",
        "  !apt-get install -y openjdk-8-jdk-headless -qq > /dev/null      #install openjdk\n",
        "  os.environ[\"JAVA_HOME\"] = \"/usr/lib/jvm/java-8-openjdk-amd64\"     #set environment variable\n",
        "  !java -version       #check java version\n",
        "install_java()\n",
        "\n",
        "!wget http://mallet.cs.umass.edu/dist/mallet-2.0.8.zip\n",
        "!unzip mallet-2.0.8.zip\n",
        "\n",
        "\n",
        "import pandas as pd\n",
        "import nltk\n",
        "nltk.download('stopwords')\n",
        "! pip install spacy\n",
        "! pip install pyLDAvis\n",
        "import re\n",
        "import numpy as np\n",
        "import pandas as pd\n",
        "from pprint import pprint\n",
        "\n",
        "# Gensim\n",
        "import gensim\n",
        "import gensim.corpora as corpora\n",
        "from gensim.utils import simple_preprocess\n",
        "from gensim.models import CoherenceModel\n",
        "\n",
        "# spacy for lemmatization\n",
        "import spacy\n",
        "\n",
        "# Plotting tools\n",
        "import pyLDAvis\n",
        "import pyLDAvis.gensim_models  # don't skip this\n",
        "import pyLDAvis.gensim_models as gensimvis\n",
        "pyLDAvis.enable_notebook()\n",
        "\n",
        "import matplotlib.pyplot as plt\n",
        "%matplotlib inline\n",
        "\n",
        "import warnings\n",
        "warnings.filterwarnings(\"ignore\",category=DeprecationWarning)"
      ],
      "execution_count": null,
      "outputs": []
    },
    {
      "cell_type": "markdown",
      "source": [
        "### importing the cleaned dataset"
      ],
      "metadata": {
        "id": "UNBMuRTv_okm"
      }
    },
    {
      "cell_type": "code",
      "metadata": {
        "colab": {
          "base_uri": "https://localhost:8080/",
          "height": 206
        },
        "id": "dBQktufJ7cy9",
        "outputId": "ed057cc5-5a77-49f1-ce77-fab1386c6e0d"
      },
      "source": [
        "#Importing the dataset\n",
        "df = pd.read_csv(\"/content/drive/My Drive/Assessment_3/cleaned_dataset.csv\")\n",
        "\n",
        "Titles = df['Together'].str.cat(sep = '')\n",
        "df.head(5)\n",
        "\n"
      ],
      "execution_count": 149,
      "outputs": [
        {
          "output_type": "execute_result",
          "data": {
            "text/html": [
              "<div>\n",
              "<style scoped>\n",
              "    .dataframe tbody tr th:only-of-type {\n",
              "        vertical-align: middle;\n",
              "    }\n",
              "\n",
              "    .dataframe tbody tr th {\n",
              "        vertical-align: top;\n",
              "    }\n",
              "\n",
              "    .dataframe thead th {\n",
              "        text-align: right;\n",
              "    }\n",
              "</style>\n",
              "<table border=\"1\" class=\"dataframe\">\n",
              "  <thead>\n",
              "    <tr style=\"text-align: right;\">\n",
              "      <th></th>\n",
              "      <th>Unnamed: 0</th>\n",
              "      <th>index</th>\n",
              "      <th>Title</th>\n",
              "      <th>Description</th>\n",
              "      <th>Section</th>\n",
              "      <th>Paper</th>\n",
              "      <th>Together</th>\n",
              "    </tr>\n",
              "  </thead>\n",
              "  <tbody>\n",
              "    <tr>\n",
              "      <th>0</th>\n",
              "      <td>0</td>\n",
              "      <td>1</td>\n",
              "      <td>scott morrison confirms australia s diplomatic...</td>\n",
              "      <td>the prime minister has confirmed australia wil...</td>\n",
              "      <td>federal</td>\n",
              "      <td>The Age</td>\n",
              "      <td>scott morrison confirms australia s diplomatic...</td>\n",
              "    </tr>\n",
              "    <tr>\n",
              "      <th>1</th>\n",
              "      <td>1</td>\n",
              "      <td>2</td>\n",
              "      <td>desperate triple zero calls unanswered as a li...</td>\n",
              "      <td>victoria s triple zero service is supposed to ...</td>\n",
              "      <td>state</td>\n",
              "      <td>The Age</td>\n",
              "      <td>desperate triple zero calls unanswered as a li...</td>\n",
              "    </tr>\n",
              "    <tr>\n",
              "      <th>2</th>\n",
              "      <td>2</td>\n",
              "      <td>3</td>\n",
              "      <td>australia news live nsw s omicron covid cluste...</td>\n",
              "      <td>another liberal elder has encouraged gladys be...</td>\n",
              "      <td>misc news</td>\n",
              "      <td>The Age</td>\n",
              "      <td>australia news live nsw s omicron covid cluste...</td>\n",
              "    </tr>\n",
              "    <tr>\n",
              "      <th>3</th>\n",
              "      <td>3</td>\n",
              "      <td>4</td>\n",
              "      <td>ashes first test live updates root dismissed f...</td>\n",
              "      <td>australia are off to a dream start at the gabb...</td>\n",
              "      <td>sport</td>\n",
              "      <td>The Age</td>\n",
              "      <td>ashes first test live updates root dismissed f...</td>\n",
              "    </tr>\n",
              "    <tr>\n",
              "      <th>4</th>\n",
              "      <td>4</td>\n",
              "      <td>6</td>\n",
              "      <td>not just another alpha male how pat cummins wi...</td>\n",
              "      <td>life has never been all about cricket for aust...</td>\n",
              "      <td>sport</td>\n",
              "      <td>The Age</td>\n",
              "      <td>not just another alpha male how pat cummins wi...</td>\n",
              "    </tr>\n",
              "  </tbody>\n",
              "</table>\n",
              "</div>"
            ],
            "text/plain": [
              "   Unnamed: 0  ...                                           Together\n",
              "0           0  ...  scott morrison confirms australia s diplomatic...\n",
              "1           1  ...  desperate triple zero calls unanswered as a li...\n",
              "2           2  ...  australia news live nsw s omicron covid cluste...\n",
              "3           3  ...  ashes first test live updates root dismissed f...\n",
              "4           4  ...  not just another alpha male how pat cummins wi...\n",
              "\n",
              "[5 rows x 7 columns]"
            ]
          },
          "metadata": {},
          "execution_count": 149
        }
      ]
    },
    {
      "cell_type": "markdown",
      "source": [
        "## Feature Normalisation / Data Pre-Processing\n"
      ],
      "metadata": {
        "id": "WeU2zygw_4QS"
      }
    },
    {
      "cell_type": "markdown",
      "source": [
        "The cleaned corpus required additional pre-processing prior to the application of the topic model, \n",
        "\n",
        "*   \tCreation of bigram and trigram phrases in the dataset, no minimum threshold has been called out due to the small size of the dataset\n",
        "*  Removal of stop words \n",
        "*   Lemmatization of words defined as the conversion of a word to a root by removing suffixes (Chapman, Nadkarni, & Ohno-Machado, 2011).\n",
        "*  Creation of the Dictionary using Lemmatized bigrams\n",
        "*   Creation of the Corpus \n"
      ],
      "metadata": {
        "id": "HenDO6u3HtBj"
      }
    },
    {
      "cell_type": "code",
      "metadata": {
        "id": "__v0kzZTkZXR"
      },
      "source": [
        "# NLTK Stop words\n",
        "from nltk.corpus import stopwords\n",
        "stop_words = stopwords.words('english')\n",
        "stop_words.extend(['from', 'us', 'abc', 'australia', 'australian', 'year', 'aussies', 'news', 'day', 'be', 'use', 's', 'be', 'get', 'say'])\n"
      ],
      "execution_count": 150,
      "outputs": []
    },
    {
      "cell_type": "code",
      "metadata": {
        "id": "hRKKrfOFc9cU"
      },
      "source": [
        "# Convert to list\n",
        "data = df.Together.values.tolist()\n"
      ],
      "execution_count": 151,
      "outputs": []
    },
    {
      "cell_type": "code",
      "metadata": {
        "colab": {
          "base_uri": "https://localhost:8080/"
        },
        "id": "sjuWFsgZ7cwW",
        "outputId": "a12cab5a-3a81-4e6a-c0ee-8e45e42de10b"
      },
      "source": [
        "def sent_to_words(sentences):\n",
        "    for sentence in sentences:\n",
        "        yield(gensim.utils.simple_preprocess(str(sentence), deacc=True))  # deacc=True removes punctuations\n",
        "\n",
        "data_words = list(sent_to_words(data))\n",
        "\n",
        "print(data_words[:1])"
      ],
      "execution_count": 152,
      "outputs": [
        {
          "output_type": "stream",
          "name": "stdout",
          "text": [
            "[['scott', 'morrison', 'confirms', 'australia', 'diplomatic', 'boycott', 'of', 'beijing', 'olympicsthe', 'prime', 'minister', 'has', 'confirmed', 'australia', 'will', 'not', 'send', 'officials', 'to', 'the', 'upcoming', 'winter', 'olympics']]\n"
          ]
        }
      ]
    },
    {
      "cell_type": "code",
      "metadata": {
        "id": "JzwgoSHp7ctV",
        "colab": {
          "base_uri": "https://localhost:8080/"
        },
        "outputId": "f3a10a1a-7131-4234-90d2-fa30ea1f2a13"
      },
      "source": [
        "# Build the bigram and trigram models\n",
        "bigram = gensim.models.Phrases(data_words, threshold=100) # higher threshold fewer phrases.\n",
        "trigram = gensim.models.Phrases(bigram[data_words], threshold=100)  \n",
        "\n",
        "# Faster way to get a sentence clubbed as a trigram/bigram\n",
        "bigram_mod = gensim.models.phrases.Phraser(bigram)\n",
        "trigram_mod = gensim.models.phrases.Phraser(trigram)\n",
        "\n",
        "# See trigram example\n",
        "print(trigram_mod[bigram_mod[data_words[0]]])"
      ],
      "execution_count": 153,
      "outputs": [
        {
          "output_type": "stream",
          "name": "stdout",
          "text": [
            "['scott', 'morrison', 'confirms', 'australia', 'diplomatic_boycott', 'of', 'beijing', 'olympicsthe', 'prime', 'minister', 'has', 'confirmed', 'australia', 'will', 'not', 'send', 'officials', 'to', 'the', 'upcoming', 'winter_olympics']\n"
          ]
        }
      ]
    },
    {
      "cell_type": "code",
      "metadata": {
        "id": "jbjo8bz_7cqa"
      },
      "source": [
        "# Define functions for stopwords, bigrams, trigrams and lemmatization\n",
        "def remove_stopwords(texts):\n",
        "    return [[word for word in simple_preprocess(str(doc)) if word not in stop_words] for doc in texts]\n",
        "\n",
        "def make_bigrams(texts):\n",
        "    return [bigram_mod[doc] for doc in texts]\n",
        "\n",
        "def make_trigrams(texts):\n",
        "    return [trigram_mod[bigram_mod[doc]] for doc in texts]\n",
        "\n",
        "def lemmatization(texts, allowed_postags=['NOUN', 'ADJ', 'VERB', 'ADV']):\n",
        "    \"\"\"https://spacy.io/api/annotation\"\"\"\n",
        "    texts_out = []\n",
        "    for sent in texts:\n",
        "        doc = nlp(\" \".join(sent)) \n",
        "        texts_out.append([token.lemma_ for token in doc if token.pos_ in allowed_postags])\n",
        "    return texts_out"
      ],
      "execution_count": 154,
      "outputs": []
    },
    {
      "cell_type": "code",
      "metadata": {
        "colab": {
          "base_uri": "https://localhost:8080/"
        },
        "id": "GMMaF7A37cna",
        "outputId": "60d4277e-2bbd-4b95-dfe8-6a0d1cb05242"
      },
      "source": [
        "# Remove Stop Words\n",
        "data_words_nostops = remove_stopwords(data_words)\n",
        "\n",
        "# Form Bigrams\n",
        "data_words_bigrams = make_bigrams(data_words_nostops)\n",
        "\n",
        "# Initialize spacy 'en' model, keeping only tagger component (for efficiency)\n",
        "# python3 -m spacy download en\n",
        "nlp = spacy.load('en', disable=['parser', 'ner'])\n",
        "\n",
        "# Do lemmatization keeping only noun, adj, vb, adv\n",
        "data_lemmatized = lemmatization(data_words_bigrams, allowed_postags=['NOUN', 'ADJ', 'VERB', 'ADV'])\n",
        "\n",
        "print(data_words_nostops)\n",
        "\n",
        "\n",
        "print(data_lemmatized[:1])"
      ],
      "execution_count": 155,
      "outputs": [
        {
          "output_type": "stream",
          "name": "stdout",
          "text": [
            "[['scott', 'morrison', 'confirms', 'diplomatic', 'boycott', 'beijing', 'olympicsthe', 'prime', 'minister', 'confirmed', 'send', 'officials', 'upcoming', 'winter', 'olympics'], ['desperate', 'triple', 'zero', 'calls', 'unanswered', 'life', 'ticked', 'awayvictoria', 'triple', 'zero', 'service', 'supposed', 'work', 'seamlessly', 'nick', 'panagiotopoulos', 'tried', 'call', 'ambulance', 'october', 'something', 'went', 'terribly', 'wrong'], ['live', 'nsw', 'omicron', 'covid', 'cluster', 'grows', 'first', 'ashes', 'test', 'begins', 'brisbaneanother', 'liberal', 'elder', 'encouraged', 'gladys', 'berejiklian', 'run', 'federal', 'politics', 'victoria', 'coronavirus', 'outbreak', 'slowing', 'changing', 'shape', 'send', 'officials', 'china', 'winter', 'olympics'], ['ashes', 'first', 'test', 'live', 'updates', 'root', 'dismissed', 'duck', 'starc', 'strikes', 'first', 'ballaustralia', 'dream', 'start', 'gabba', 'mitchell', 'starc', 'took', 'wicket', 'first', 'ball', 'series'], ['another', 'alpha', 'male', 'pat', 'cummins', 'captain', 'australialife', 'never', 'cricket', 'new', 'men', 'test', 'captain', 'given', 'job', 'pat', 'cummins', 'walked', 'could', 'saving', 'grace'], ['nathan', 'lyon', 'subtleties', 'spin', 'crucial', 'stopping', 'stokesin', 'fourth', 'part', 'deep', 'dive', 'strategies', 'showdowns', 'shape', 'ashes', 'examine', 'might', 'best', 'quell', 'ben', 'stokes', 'brilliant', 'bat'], ['want', 'attend', 'work', 'christmas', 'party', 'bad', 'moveif', 'ever', 'time', 'allow', 'freedom', 'want', 'rather', 'think', 'might', 'expected', 'could'], ['hospital', 'drama', 'bursts', 'blocks', 'gets', 'struck', 'covidnew', 'amsterdam', 'took', 'aim', 'america', 'broken', 'health', 'system', 'even', 'featured', 'episode', 'pandemic', 'real', 'one', 'happened', 'lost', 'way'], ['susan', 'orlean', 'comes', 'book', 'animals', 'except', 'reallythe', 'real', 'subject', 'book', 'human', 'animals', 'often', 'warped', 'whacky', 'interactions', 'species'], ['liberal', 'elder', 'baird', 'encourages', 'berejiklian', 'run', 'admits', 'icac', 'riskthe', 'concern', 'report', 'comes', 'adverse', 'people', 'expecting', 'said'], ['liberals', 'run', 'candidate', 'icac', 'baggage', 'alp', 'didan', 'appearance', 'icac', 'survivable', 'helps', 'adverse', 'findings', 'made'], ['strictly', 'ballroom', 'mercurio', 'set', 'leap', 'state', 'parliamentthe', 'film', 'star', 'turned', 'mornington', 'peninsula', 'shire', 'local', 'councillor', 'contemplating', 'stepping', 'notch'], ['downing', 'street', 'staffers', 'sprung', 'laughing', 'secret', 'christmas', 'party', 'new', 'videothe', 'sensational', 'footage', 'leaked', 'itv', 'shot', 'four', 'days', 'reported', 'staff', 'party', 'downing', 'street', 'prime', 'minister', 'claims', 'breach', 'severe', 'lockdown', 'rules', 'imposed', 'time'], ['crypto', 'afterpay', 'government', 'plans', 'consumer', 'business', 'changethe', 'nation', 'payment', 'system', 'rapidly', 'changing', 'face', 'emerging', 'technologies', 'coalition', 'plans', 'sweeping', 'reforms', 'improve', 'operation'], ['labor', 'focus', 'lgbtqi', 'issues', 'religious', 'freedom', 'bill', 'amid', 'warning', 'keneallytwo', 'inquiries', 'draft', 'laws', 'look', 'lgbtqi', 'protections', 'schools', 'kristina', 'keneally', 'warns', 'issue', 'could', 'become', 'political', 'football', 'ahead', 'election'], ['household', 'budget', 'inflation', 'backdrop', 'weak', 'wage', 'growth', 'putting', 'squeeze', 'family', 'budgets', 'fears', 'growing', 'interest', 'rates', 'rise', 'combat', 'inflation', 'could', 'result', 'mortgage', 'stress', 'many', 'highly', 'indebted', 'homeowners'], ['sell', 'home', 'pay', 'aged', 'care', 'myththe', 'treatment', 'home', 'unique', 'asset', 'sold', 'late', 'change', 'mind'], ['prepared', 'unexpected', 'pivoting', 'retail', 'startupin', 'episode', 'futurepreneur', 'pivoting', 'queen', 'alyce', 'tran', 'joins', 'business', 'reporter', 'amelia', 'mcguire', 'talk', 'realities', 'moving', 'one', 'business', 'another'], ['banking', 'report', 'card', 'must', 'try', 'hardernot', 'least', 'banking', 'code', 'practice', 'failings', 'consumer', 'protections', 'essentially', 'optional'], ['years', 'halo', 'infinite', 'series', 'return', 'xbox', 'erstwhile', 'flagship', 'franchise', 'roots', 'also', 'pivoting', 'open', 'world', 'live', 'service', 'model', 'big', 'ask', 'paid'], ['betoota', 'advocate', 'publisher', 'lead', 'junkee', 'following', 'salethe', 'man', 'behind', 'popular', 'satirical', 'website', 'betoota', 'advocate', 'become', 'publisher', 'youth', 'publication', 'junkee', 'following', 'sale', 'independent', 'digital', 'production', 'company', 'racat', 'group'], ['turtle', 'recall', 'beaumaris', 'fossil', 'changes', 'understanding', 'history', 'life', 'continentthe', 'five', 'million', 'old', 'specimen', 'found', 'melbourne', 'bayside', 'almost', 'years', 'ago', 'significance', 'discovered'], ['victory', 'people', 'power', 'cbd', 'site', 'saved', 'demolition', 'developer', 'plans', 'top', 'towermelbourne', 'house', 'little', 'bourke', 'street', 'spared', 'following', 'campaign', 'several', 'years', 'residents', 'remain', 'concerned', 'heritage', 'protections', 'cbd', 'go', 'far', 'enough'], ['prince', 'harry', 'rift', 'father', 'ever', 'healedthe', 'already', 'fragile', 'relationship', 'heir', 'throne', 'youngest', 'son', 'appears', 'breaking', 'point', 'harry', 'claimed', 'raised', 'concerns', 'charles', 'cash', 'access', 'crisis'], ['primary', 'schools', 'focus', 'state', 'covid', 'outbreak', 'shifts', 'gearprimary', 'schools', 'centre', 'large', 'covid', 'clusters', 'recorded', 'victoria', 'infections', 'unvaccinated', 'children', 'doctors', 'mostly', 'mild', 'symptoms', 'remain', 'high'], ['treat', 'like', 'problem', 'child', 'foyers', 'fix', 'youth', 'three', 'tafe', 'campuses', 'help', 'people', 'aged', 'want', 'study', 'live', 'home', 'wednesday', 'youth', 'foyers', 'program', 'receive', 'funding', 'boost'], ['booming', 'regions', 'take', 'edge', 'melbourne', 'covid', 'recessionbumper', 'harvests', 'helped', 'spur', 'economic', 'activity', 'rural', 'regional', 'victoria', 'pandemic', 'sent', 'melbourne', 'recession'], ['police', 'seize', 'million', 'cash', 'stacked', 'cbd', 'hotel', 'coffee', 'tablethree', 'men', 'jailed', 'police', 'found', 'kilograms', 'methamphetamine', 'concealed', 'shipment', 'tyres', 'bound'], ['bloodlust', 'warning', 'labor', 'mps', 'discuss', 'switch', 'daniel', 'andrews', 'urged', 'intervene', 'protect', 'fire', 'mps', 'aligned', 'sacked', 'former', 'minister', 'adem', 'somyurek'], ['send', 'officials', 'china', 'winter', 'olympicsa', 'final', 'decision', 'made', 'within', 'days', 'whether', 'follow', 'launch', 'full', 'diplomatic', 'boycott', 'rebuke', 'beijing', 'human', 'rights', 'record'], ['experts', 'question', 'labor', 'claim', 'cut', 'power', 'bills', 'bylabor', 'says', 'consumers', 'lower', 'power', 'bills', 'energy', 'policy', 'ramps', 'renewable', 'energy', 'experts', 'modelling', 'overly', 'optimistic'], ['final', 'green', 'light', 'children', 'covid', 'vaccines', 'due', 'end', 'weekthe', 'government', 'confident', 'supplies', 'start', 'vaccine', 'rollout', 'five', 'olds', 'january', 'continue', 'first', 'school', 'term'], ['house', 'values', 'soar', 'trillion', 'since', 'start', 'pandemicthe', 'reserve', 'bank', 'left', 'room', 'start', 'normalising', 'cost', 'mortgages', 'record', 'low', 'interest', 'rates', 'helped', 'drive', 'value', 'nation', 'residential', 'properties'], ['fire', 'instagram', 'nudge', 'users', 'take', 'breakinstagram', 'encouraging', 'users', 'take', 'break', 'company', 'battles', 'accusations', 'much', 'time', 'spent', 'social', 'networks', 'hurts', 'mental', 'wellbeing', 'teenagers'], ['asx', 'zip', 'co', 'jumps', 'optus', 'pays', 'bn', 'spectrumthe', 'asx', 'opened', 'higher', 'hitting', 'points', 'sectors', 'higher', 'materials', 'energy', 'information', 'technology', 'leading'], ['trump', 'media', 'deal', 'scrutiny', 'market', 'looking', 'deal', 'would', 'bring', 'donald', 'trump', 'new', 'social', 'media', 'company', 'stock', 'market', 'one', 'attracted', 'legions', 'fans', 'former', 'president', 'people', 'looking', 'make', 'quick', 'profit'], ['liberal', 'senator', 'attacks', 'lawyers', 'law', 'firmssarah', 'henderson', 'says', 'employment', 'staff', 'lawyers', 'obscene', 'completely', 'broadcaster', 'needs'], ['children', 'account', 'highest', 'rates', 'covid', 'infection', 'europewho', 'europe', 'regional', 'director', 'dr', 'hans', 'kluge', 'urged', 'countries', 'protect', 'children', 'schools', 'amid', 'rapid', 'rise', 'cases', 'among', 'age', 'group', 'region'], ['biden', 'warns', 'putin', 'talks', 'expect', 'sanctions', 'invades', 'ukrainethe', 'also', 'understanding', 'germany', 'shutting', 'controversial', 'nord', 'stream', 'pipeline', 'russia', 'invades', 'ukraine', 'aide', 'told', 'reuters'], ['uk', 'prioritised', 'animals', 'people', 'kabul', 'airlift', 'says', 'marshall', 'former', 'foreign', 'office', 'desk', 'officer', 'said', 'thousands', 'emails', 'asking', 'help', 'never', 'even', 'read'], ['one', 'suspected', 'killers', 'saudi', 'journalist', 'khashoggi', 'arrested', 'paristhe', 'arrest', 'came', 'days', 'french', 'president', 'emmanuel', 'macron', 'held', 'face', 'face', 'talks', 'saudi', 'arabia', 'de', 'facto', 'ruler', 'crown', 'prince', 'mohammed', 'bin', 'salman'], ['robo', 'revenue', 'raising', 'tempting', 'greedy', 'governmentsrobo', 'debt', 'showed', 'governments', 'unlawfully', 'technology', 'shake', 'vulnerable', 'people', 'money', 'mean', 'try'], ['winter', 'games', 'present', 'opportunity', 'press', 'china', 'human', 'regimes', 'increasingly', 'using', 'glitz', 'glamour', 'hosting', 'major', 'sporting', 'events', 'deflect', 'deplorable', 'human', 'rights', 'abuses'], ['celebrating', 'academic', 'pandemic', 'three', 'cards', 'covid', 'pandemic', 'catalyst', 'hit', 'books', 'aim', 'next', 'level', 'careers'], ['bitcoin', 'flash', 'crash', 'shatters', 'crypto', 'illusionlast', 'weekend', 'crypto', 'meltdown', 'shown', 'new', 'asset', 'class', 'exaggerated', 'correlation', 'risky', 'assets', 'supposed', 'happen'], ['sydney', 'melbourne', 'house', 'prices', 'surprise', 'fall', 'auctionthe', 'median', 'auction', 'house', 'price', 'fell', 'sydney', 'melbourne', 'last', 'month', 'huge', 'volume', 'listings', 'offered', 'buyers', 'choice', 'blip', 'could', 'booming', 'house', 'price', 'growth', 'coming', 'end'], ['rental', 'prices', 'tipped', 'rise', 'vacancies', 'hit', 'multi', 'lowrenters', 'across', 'face', 'fewer', 'options', 'finding', 'next', 'home', 'vacancy', 'rates', 'multi', 'low', 'expected', 'fall'], ['hungry', 'home', 'hunters', 'push', 'prices', 'capital', 'citiesclearance', 'rates', 'slightly', 'keen', 'bidding', 'key', 'auctions'], ['house', 'prices', 'really', 'double', 'every', 'yearsthe', 'old', 'saying', 'goes', 'property', 'prices', 'double', 'every', 'decade', 'new', 'figures', 'show', 'locations', 'price', 'growth', 'even', 'stronger', 'kept', 'pace'], ['mystery', 'buyer', 'splashes', 'million', 'albert', 'park', 'home', 'hot', 'auctiona', 'four', 'bedroom', 'victorian', 'terrace', 'albert', 'park', 'sold', 'million', 'top', 'end', 'price', 'guide', 'homes', 'passed', 'weekend', 'revealed', 'property', 'market', 'extremes'], ['new', 'keys', 'ageing', 'fastest', 'growing', 'age', 'group', 'many', 'developed', 'countries', 'including', 'stretch', 'health', 'span', 'reach', 'good', 'shape'], ['guccis', 'really', 'happy', 'house', 'guccifollowing', 'release', 'family', 'issued', 'statement', 'claiming', 'anything', 'accurate', 'taking', 'aim', 'depiction', 'patrizia', 'reggiani', 'played', 'lada', 'gaga'], ['smiling', 'really', 'make', 'look', 'youngera', 'new', 'study', 'found', 'smiling', 'actually', 'makes', 'people', 'look', 'older', 'unless', 'case', 'wrinkles', 'set', 'makes', 'little', 'difference'], ['muscle', 'group', 'vital', 'running', 'also', 'ignoredaround', 'per', 'cent', 'women', 'engage', 'pelvic', 'floor', 'properly', 'female', 'runners', 'particular', 'spell', 'trouble'], ['luxury', 'consignment', 'stores', 'selling', 'high', 'end', 'pre', 'loved', 'clothing', 'via', 'live', 'instagram', 'auctions', 'provided', 'retail', 'therapy', 'hit', 'many', 'lockdown', 'slowing', 'time', 'soon'], ['industries', 'suffered', 'aussie', 'film', 'tv', 'production', 'record', 'yearscreen', 'annual', 'survey', 'drama', 'production', 'showed', 'reached', 'record', 'billion', 'last', 'financial'], ['ultimate', 'rejection', 'tell', 'mum', 'want', 'kidsa', 'new', 'play', 'commissioned', 'red', 'stitch', 'looks', 'one', 'hardest', 'life', 'decisions', 'make', 'affect', 'family', 'relationships'], ['kung', 'fu', 'films', 'later', 'jason', 'phu', 'movie', 'makeinspiration', 'strike', 'least', 'expect', 'artist', 'jason', 'phu', 'came', 'form', 'martial', 'arts', 'movies'], ['lovers', 'fresh', 'jazz', 'melbourne', 'festival', 'overflowed', 'new', 'soundsmany', 'album', 'launches', 'made', 'melbourne', 'international', 'jazz', 'festival', 'postponed', 'multiple', 'times'], ['best', 'show', 'top', 'tv', 'programs', 'ofthere', 'much', 'great', 'tv', 'panel', 'critics', 'settle', 'one', 'single', 'winner'], ['debt', 'free', 'losing', 'swans', 'afl', 'dripthe', 'sydney', 'swans', 'recovered', 'troubling', 'million', 'loss', 'longer', 'one', 'afl', 'financially', 'assisted', 'clubs'], ['fraser', 'mcgurk', 'screamer', 'helps', 'renegades', 'win', 'thriller', 'strikersan', 'early', 'contender', 'catch', 'season', 'jake', 'fraser', 'mcgurk', 'helped', 'melbourne', 'renegades', 'overcome', 'dramatic', 'batting', 'collapse', 'beat', 'adelaide', 'strikers', 'two', 'runs'], ['nothing', 'silly', 'stewart', 'star', 'cat', 'travels', 'road', 'recoverythree', 'time', 'reigning', 'best', 'fairest', 'winner', 'tom', 'stewart', 'progressing', 'well', 'lisfranc', 'injury', 'derailed', 'season'], ['second', 'string', 'city', 'beaten', 'leipzig', 'psg', 'stars', 'shine', 'bruggerb', 'leipzig', 'booked', 'europa', 'league', 'spot', 'second', 'win', 'group', 'stage', 'paris', 'kylian', 'mbappe', 'lionel', 'messi', 'split', 'goals', 'rout'], ['world', 'barty', 'named', 'wta', 'player', 'second', 'timeash', 'barty', 'takes', 'top', 'women', 'gong', 'open', 'champion', 'emma', 'raducanu', 'wins', 'newcomer'], ['aus', 'open', 'intrigue', 'djokovic', 'signs', 'sydney', 'eventworld', 'novak', 'djokovic', 'committed', 'atp', 'cup', 'sydney', 'tournament', 'requires', 'players', 'submit', 'vaccination', 'rules', 'open'], ['daunting', 'prospect', 'warner', 'nightmare', 'bearing', 'ashescaptain', 'pat', 'cummins', 'assessment', 'dynamic', 'opener', 'fear', 'factor', 'nets', 'highlights', 'england', 'difficulty', 'taming', 'man', 'known', 'bull', 'soil'], ['smith', 'ashes', 'advice', 'new', 'captainsteve', 'smith', 'advice', 'pat', 'cummins', 'comes', 'hard', 'personal', 'experience'], ['everything', 'need', 'know', 'first', 'ashes', 'testthe', 'battle', 'cricket', 'famous', 'urn', 'upon', 'information', 'need', 'teams', 'times', 'tips', 'television', 'details', 'weather', 'reports', 'key', 'match', 'ups'], ['box', 'seat', 'pakula', 'says', 'night', 'ashes', 'test', 'mcg', 'good', 'pass', 'upmelbourne', 'sporting', 'precinct', 'could', 'become', 'centre', 'world', 'sport', 'middle', 'january', 'victorian', 'government', 'saying', 'mcg', 'case', 'host', 'fifth', 'ashes', 'test', 'open', 'begins', 'undeniable'], ['broadcasters', 'want', 'fifth', 'ashes', 'test', 'iconic', 'mcg', 'scgbroadcasters', 'central', 'bidding', 'fifth', 'ashes', 'test', 'already', 'strong', 'preference', 'melbourne', 'sydney', 'host', 'clash'], ['cummins', 'says', 'picking', 'fights', 'testing', 'ashes', 'summerpat', 'cummins', 'knows', 'tensions', 'rise', 'field', 'intense', 'series', 'laid', 'cultural', 'foundations', 'team', 'series', 'england'], ['red', 'bull', 'cranks', 'pressure', 'race', 'chief', 'michael', 'masihelmut', 'marko', 'added', 'pressure', 'steadily', 'building', 'fia', 'race', 'director', 'michael', 'masi', 'past', 'weeks', 'saying', 'decision', 'making', 'masi', 'race', 'stewards', 'saudi', 'arabia', 'sunday', 'one', 'sided'], ['show', 'force', 'dogs', 'roos', 'play', 'good', 'friday', 'innorth', 'melbourne', 'western', 'bulldogs', 'retained', 'standalone', 'good', 'friday', 'game', 'season'], ['sense', 'something', 'teen', 'sensation', 'lift', 'kerr', 'even', 'higherthink', 'seen', 'best', 'sam', 'kerr', 'think', 'tony', 'gustavsson', 'believes', 'young', 'teammate', 'mary', 'fowler', 'help', 'captain', 'go', 'new', 'level'], ['jake', 'fraser', 'mcgurk', 'takes', 'insane', 'boundary', 'catchthe', 'renegades', 'jake', 'fraser', 'mcgurk', 'taken', 'catch', 'bbl', 'far', 'reaching', 'new', 'heights', 'dismiss', 'matt', 'short'], ['sydney', 'party', 'boat', 'alert', 'two', 'likely', 'omicron', 'casesabout', 'people', 'signed', 'qr', 'code', 'urgently', 'contacted', 'nsw', 'health', 'five', 'people', 'tested', 'positive', 'covid', 'including', 'two', 'likely', 'omicron', 'cases'], ['bitter', 'pill', 'swallow', 'omicron', 'horrible', 'dilemma', 'chinaomicron', 'end', 'road', 'china', 'zero', 'covid', 'policy', 'beijing', 'almost', 'certainly', 'dig', 'heels', 'first', 'wide', 'ramifications', 'global', 'economy'], ['told', 'ghislaine', 'maxwell', 'third', 'accuser', 'testifies', 'trialcarolyn', 'said', 'introduced', 'epstein', 'virginia', 'giuffre', 'one', 'epstein', 'maxwell', 'prominent', 'accusers', 'asked', 'wanted', 'go', 'make', 'money'], ['bronte', 'home', 'late', 'tv', 'boss', 'maureen', 'kerridge', 'sets', 'new', 'highbronte', 'fast', 'establishing', 'one', 'sydney', 'expensive', 'locales', 'parkside', 'house', 'long', 'owned', 'late', 'seven', 'chief', 'executive', 'maureen', 'kerridge', 'sold', 'million'], ['principal', 'cannot', 'find', 'teacher', 'enough', 'lure', 'themthousands', 'teachers', 'principals', 'rallied', 'macquarie', 'street', 'saying', 'higher', 'pay', 'manageable', 'workloads', 'stop', 'teacher', 'shortages'], ['disabled', 'woman', 'furious', 'lack', 'support', 'sex', 'educationthe', 'woman', 'lived', 'group', 'home', 'raped', 'man', 'said', 'little', 'support', 'felt', 'like', 'blamed', 'afterwards'], ['government', 'knew', 'cracked', 'inner', 'west', 'trams', 'weeks', 'service', 'first', 'found', 'inner', 'west', 'light', 'rail', 'trams', 'almost', 'month', 'service', 'suspended', 'new', 'government', 'documents', 'revealed'], ['perrottet', 'new', 'look', 'frontbench', 'taking', 'shapethe', 'nsw', 'premier', 'cusp', 'making', 'calls', 'winners', 'losers', 'upcoming', 'cabinet', 'reshuffle', 'expected', 'finalise', 'christmas'], ['premier', 'pushes', 'nsw', 'take', 'control', 'early', 'childhood', 'dominic', 'perrottet', 'call', 'nsw', 'take', 'control', 'childcare', 'early', 'childhood', 'education', 'federal', 'government', 'speech', 'national', 'press', 'club', 'wednesday'], ['retesting', 'covid', 'swabs', 'suggests', 'omicron', 'arrived', 'late', 'novemberalmost', 'coronavirus', 'swabs', 'retested', 'omicron', 'variant', 'show', 'strain', 'began', 'circulating', 'nsw', 'november', 'international', 'arrival', 'likely', 'source', 'south', 'west', 'sydney', 'cluster'], ['nationals', 'condemn', 'christensen', 'appearance', 'dark', 'corners', 'colleagues', 'castigated', 'backbencher', 'george', 'christensen', 'decision', 'appear', 'show', 'hosted', 'conspiracy', 'theorist', 'alex', 'jones', 'last', 'week'], ['amazon', 'cloud', 'outage', 'hits', 'major', 'websites', 'streaming', 'appsan', 'amzon', 'outage', 'caused', 'havoc', 'knocking', 'streaming', 'platforms', 'netflix', 'disney', 'robinhood', 'wide', 'range', 'apps', 'amazon', 'com', 'commerce', 'website', 'consumers', 'shopped', 'ahead', 'christmas'], ['gen', 'hit', 'hardest', 'mentally', 'pandemic', 'survey', 'findsyoung', 'people', 'falling', 'behind', 'school', 'also', 'lagging', 'skills', 'needed', 'cope', 'stress', 'decision', 'making', 'would', 'normally', 'developing'], ['value', 'austins', 'home', 'jumped', 'white', 'friend', 'posed', 'homeownerpaul', 'tenisha', 'austin', 'suspected', 'valuer', 'underestimated', 'family', 'home', 'made', 'look', 'like', 'white', 'family', 'owned'], ['ban', 'victims', 'selling', 'silence', 'unintended', 'people', 'complain', 'sexual', 'harassment', 'non', 'disclosure', 'agreements', 'outlawed'], ['public', 'sector', 'strikes', 'back', 'vengeancethe', 'seeds', 'industrial', 'unrest', 'saw', 'teachers', 'transport', 'workers', 'strike', 'week', 'sown', 'legislation', 'limits', 'opportunity', 'many', 'public', 'sector', 'employees', 'negotiate'], ['bought', 'puppy', 'son', 'lockdown', 'strata', 'something', 'absurdwhen', 'health', 'worker', 'georgia', 'dawson', 'applied', 'permission', 'keep', 'dog', 'apartment', 'stunned', 'response'], ['modern', 'master', 'mural', 'hidden', 'sydney', 'bottle', 'shopin', 'jeffrey', 'smart', 'impoverished', 'young', 'artist', 'decorated', 'walls', 'restaurant', 'return', 'meals'], ['root', 'cannot', 'haunted', 'england', 'gabba', 'ghostsif', 'grey', 'green', 'england', 'captain', 'joe', 'root', 'must', 'prepared', 'back', 'bowlers', 'forget', 'happened', 'gabba', 'years', 'ago'], ['giant', 'killers', 'strike', 'apia', 'leichhardt', 'stuns', 'wanderers', 'ffa', 'cupthe', 'npl', 'nsw', 'outfit', 'become', 'first', 'state', 'league', 'team', 'conquer', 'two', 'league', 'opponents', 'ffa', 'cup'], ['dusting', 'ashes', 'time', 'playthere', 'much', 'build', 'ashes', 'scrambling', 'position', 'play', 'starts', 'transfixed', 'ever'], ['see', 'spark', 'eye', 'bigger', 'ben', 'looms', 'ashesthe', 'exotic', 'talent', 'ben', 'stokes', 'see', 'much', 'makes', 'tick'], ['socceroos', 'sydney', 'fc', 'star', 'grant', 'tests', 'positive', 'covidsocceroo', 'rhyan', 'grant', 'fully', 'vaccinated', 'returned', 'positive', 'test', 'covid', 'tuesday', 'ruling', 'training', 'matches', 'next', 'two', 'weeks'], ['anderson', 'first', 'ashes', 'test', 'saved', 'pink', 'ballanderson', 'withdrawal', 'contention', 'england', 'bowling', 'attack', 'first', 'ashes', 'test', 'gabba', 'caused', 'hubbub', 'move', 'looks', 'much', 'tactical', 'medical'], ['outside', 'rope', 'next', 'great', 'aussie', 'batter', 'ashes', 'series', 'previewmat', 'thompson', 'joined', 'ian', 'chappell', 'mark', 'taylor', 'tom', 'decent', 'preview', 'ashes', 'series'], ['portelli', 'sees', 'bit', 'rebel', 'dane', 'emerging', 'shadowrebel', 'shadow', 'son', 'portelli', 'former', 'dual', 'group', 'winning', 'sprinter', 'rebel', 'dane', 'touch', 'deja', 'vu', 'trainer', 'canterbury', 'win'], ['race', 'race', 'preview', 'tips', 'warwick', 'farm', 'need', 'know', 'find', 'winner', 'mid', 'week', 'metropolitan', 'meeting'], ['expensive', 'ego', 'takes', 'pole', 'position', 'epic', 'inter', 'dominion', 'battleexpensive', 'ego', 'took', 'inter', 'dominion', 'favourite', 'drawing', 'gate', 'one', 'final'], ['joins', 'olympic', 'games', 'joined', 'united', 'states', 'imposing', 'diplomatic', 'boycott', 'winter', 'olympics', 'china', 'citing', 'beijing', 'coercive', 'trade', 'practices', 'well', 'human', 'rights', 'abuses', 'reasons'], ['biden', 'boycotts', 'games', 'one', 'going', 'anywaythe', 'president', 'diplomatic', 'boycott', 'winter', 'olympics', 'important', 'largely', 'symbolic'], ['biden', 'gives', 'putin', 'ultimatum', 'ukraineus', 'president', 'joe', 'biden', 'given', 'vladimir', 'putin', 'ultimatum', 'ukraine', 'russian', 'troops', 'invade', 'severe', 'economic', 'repercussions'], ['three', 'shocks', 'explain', 'new', 'evergrande', 'crisisnikko', 'asset', 'management', 'rob', 'mann', 'believes', 'china', 'serious', 'property', 'sector', 'crackdown', 'seeks', 'restructure', 'economy', 'long', 'haul'], ['coles', 'launches', 'social', 'ad', 'campaign', 'solve', 'tech', 'worker', 'droughtthe', 'war', 'digital', 'talent', 'never', 'fierce', 'says', 'sujeet', 'rana', 'one', 'supermarket', 'giant', 'technology', 'executives'], ['asx', 'rises', 'mesoblast', 'zip', 'surge', 'pcaustralian', 'shares', 'open', 'pc', 'higher', 'iron', 'ore', 'finding', 'cost', 'curve', 'support', 'macquarie', 'woodside', 'invest', 'new', 'energy', 'santos', 'oil', 'search', 'receive', 'iccc', 'approval', 'merger', 'follow', 'latest'], ['frydenberg', 'confirms', 'central', 'digital', 'currency', 'imposes', 'diplomatic', 'boycott', 'winter', 'olympics', 'nsw', 'cases', 'leap', 'captures', 'first', 'ball', 'wicket', 'follow', 'updates'], ['woodside', 'targets', 'investment', 'clean', 'energy', 'bynews', 'investment', 'comes', 'amid', 'storm', 'protest', 'woodside', 'go', 'ahead', 'build', 'billion', 'scarborough', 'gas', 'project', 'western'], ['payments', 'crackdown', 'big', 'techtreasurer', 'josh', 'frydenberg', 'moving', 'regulate', 'services', 'apple', 'digital', 'wallet', 'buy', 'pay', 'later', 'operators', 'like', 'afterpay'], ['next', 'big', 'thing', 'crypto', 'little', 'piece', 'yousocial', 'tokens', 'revolutionising', 'wealth', 'creation', 'rather', 'borrow', 'money', 'fulfil', 'ambitions', 'artists', 'entrepreneurs', 'making', 'investment'], ['despair', 'omicron', 'ruins', 'holiday', 'plansas', 'wonderful', 'holidays', 'post', 'break', 'afterglow', 'fades', 'faster', 'think', 'days', 'away', 'enough', 'trick'], ['told', 'ghislaine', 'maxwell', 'third', 'accuser', 'says', 'told', 'british', 'socialite', 'giving', 'financier', 'jeffrey', 'epstein', 'sexual', 'massage', 'home'], ['sanchia', 'brahimi', 'buys', 'sydney', 'apartmentthe', 'daughter', 'former', 'rich', 'listers', 'swapped', 'vaucluse', 'house', 'shared', 'celebrity', 'chef', 'ex', 'husband', 'guillaume', 'brahimi', 'landmark', 'finger', 'wharf'], ['square', 'peg', 'set', 'third', 'spac', 'tomorrow', 'iosquare', 'peg', 'backed', 'hyper', 'local', 'weather', 'analytics', 'company', 'tomorrow', 'io', 'list', 'nasdaq', 'via', 'spac', 'creating', 'billion', 'company'], ['explorer', 'wa', 'resources', 'prices', 'ipo', 'euroz', 'hartleys', 'boardiron', 'oxide', 'copper', 'gold', 'explorer', 'wa', 'resources', 'tapped', 'euroz', 'hartleys', 'raise', 'million', 'initial', 'public', 'offering'], ['lithium', 'stock', 'avz', 'minerals', 'raising', 'mafter', 'liontown', 'firefinch', 'another', 'lithium', 'stock', 'ready', 'trip', 'capital', 'markets'], ['investors', 'push', 'miners', 'address', 'indigenous', 'power', 'imbalancesthe', 'lessons', 'juukan', 'gorge', 'disaster', 'informed', 'council', 'superannuation', 'investors', 'new', 'policy', 'engagement', 'first', 'nations', 'people'], ['anz', 'drawn', 'tech', 'technology', 'overhaul', 'costly', 'time', 'consuming', 'bank', 'shareholders', 'need', 'patient'], ['melbourne', 'elite', 'club', 'still', 'figuring', 'women', 'jointhose', 'awaiting', 'result', 'club', 'poll', 'whether', 'admit', 'female', 'members', 'wait', 'little', 'longer'], ['real', 'life', 'struggles', 'magellan', 'hamish', 'douglassthe', 'billionaire', 'relationship', 'breakdown', 'would', 'highly', 'relevant', 'magellan', 'shareholders', 'fund', 'investors'], ['tensions', 'behind', 'bapcor', 'chief', 'early', 'happy', 'families', 'routine', 'months', 'hidden', 'escalating', 'friction', 'driven', 'belief', 'abotomey', 'insufficiently', 'deferential', 'board'], ['property', 'rows', 'soar', 'divorce', 'hits', 'new', 'highsdivorce', 'specialists', 'claim', 'threefold', 'increase', 'separation', 'applications', 'covid', 'lockdowns', 'high', 'property', 'prices', 'adding', 'friction'], ['trading', 'shares', 'smsf', 'may', 'overratedthe', 'risks', 'getting', 'wrong', 'much', 'higher', 'smaller', 'balances', 'harder', 'diversify'], ['stellar', 'stock', 'market', 'performance', 'continue', 'inas', 'end', 'approaches', 'opportune', 'time', 'take', 'stock', 'drivers', 'strong', 'returns', 'likelihood', 'sustained'], ['rba', 'real', 'rate', 'policy', 'means', 'need', 'understand', 'real', 'reasons', 'rba', 'interest', 'rate', 'settings', 'forecast', 'rates', 'rise', 'set', 'portfolios', 'appropriately'], ['trusts', 'cut', 'tax', 'keep', 'wealth', 'discretionary', 'trusts', 'good', 'way', 'transfer', 'wealth', 'generations', 'tax', 'effective', 'way', 'protect', 'assets', 'relationship', 'breakdowns'], ['anz', 'set', 'offer', 'minute', 'mortgagestwo', 'years', 'quietly', 'beginning', 'tech', 'transformation', 'bank', 'deliver', 'first', 'product', 'tackles', 'home', 'loans'], ['neoen', 'tesla', 'victorian', 'battery', 'restarts', 'firethe', 'megawatt', 'victoria', 'big', 'battery', 'come', 'online', 'months', 'despite', 'fire', 'broke', 'project', 'july'], ['fortescue', 'joins', 'agl', 'hunter', 'hydrogen', 'ventureagl', 'energy', 'fortescue', 'future', 'industries', 'study', 'potential', 'green', 'hydrogen', 'project', 'hunter', 'valley'], ['ooh', 'media', 'offloads', 'junkee', 'media', 'racat', 'groupthe', 'publisher', 'geographic', 'owner', 'tv', 'production', 'company', 'behind', 'tv', 'shows', 'love', 'spectrum', 'acquired', 'youth', 'oriented', 'digital', 'publishing', 'business', 'junkee', 'media'], ['telcos', 'splurge', 'regional', 'gtelcos', 'spent', 'billion', 'licensing', 'low', 'band', 'mobile', 'spectrum', 'crucial', 'regional', 'capabilities', 'government'], ['inside', 'asic', 'team', 'auditing', 'auditorsthe', 'corporate', 'regulator', 'team', 'staff', 'within', 'financial', 'reporting', 'audit', 'team', 'spends', 'half', 'time', 'audit', 'inspection', 'program'], ['money', 'disappearing', 'reddit', 'traders', 'regret', 'crypto', 'shares', 'etfinvestors', 'gained', 'first', 'ever', 'exposure', 'wild', 'cryptocurrency', 'markets', 'panicking', 'record', 'breaking', 'investment', 'fund', 'tanked', 'per', 'cent'], ['magellan', 'boss', 'exit', 'goes', 'unexplained', 'shares', 'tankthe', 'group', 'market', 'valuation', 'crumbled', 'mysterious', 'departure', 'chief', 'executive', 'brett', 'cairns', 'whose', 'exit', 'disclosed', 'closing', 'bell', 'monday'], ['buckle', 'rocky', 'equities', 'bank', 'americathe', 'equity', 'bull', 'market', 'starting', 'show', 'age', 'could', 'run', 'bit', 'higher', 'bank', 'america', 'sees', 'trouble', 'second', 'half'], ['asx', 'rise', 'global', 'markets', 'rally', 'omicron', 'worries', 'easeaustralian', 'shares', 'poised', 'open', 'higher', 'techs', 'powering', 'broad', 'rebound', 'wall', 'street', 'gold', 'oil', 'iron', 'ore', 'rising', 'retakes'], ['rba', 'confidence', 'economic', 'recovery', 'lifts', 'athe', 'dollar', 'popped', 'higher', 'markets', 'took', 'comfort', 'reserve', 'bank', 'stating', 'omicron', 'variant', 'unlikely', 'derail', 'economic', 'recovery'], ['tax', 'reform', 'election', 'aboutthe', 'oecd', 'imf', 'agree', 'tax', 'system', 'unfit', 'purpose', 'need', 'take', 'case', 'change', 'election', 'urgent', 'country', 'must', 'increase', 'growth', 'pay', 'pandemic', 'debts'], ['inflation', 'stay', 'rates', 'go', 'one', 'waymassive', 'stimulus', 'global', 'financial', 'crisis', 'spill', 'inflation', 'time', 'quite', 'different'], ['pandora', 'papers', 'man', 'rio', 'tinto', 'simandou', 'leaseswhile', 'french', 'investigators', 'trawl', 'corruption', 'claims', 'related', 'guinea', 'ex', 'president', 'pandora', 'papers', 'shed', 'light', 'key', 'playmaker', 'ended', 'simandou', 'iron', 'ore', 'leases'], ['frydenberg', 'aiming', 'full', 'tax', 'transfer', 'system', 'would', 'lower', 'underemployment', 'lift', 'living', 'standards', 'help', 'put', 'three', 'front', 'jobless', 'rate'], ['ceo', 'exodus', 'gathers', 'pace', 'pressures', 'mount', 'topthe', 'rising', 'numbers', 'suite', 'departures', 'seem', 'much', 'top', 'executives', 'staggering', 'away', 'jobs', 'pushed', 'may', 'worse'], ['new', 'regime', 'may', 'force', 'crypto', 'assets', 'held', 'onshorecrypto', 'investors', 'set', 'gain', 'wave', 'new', 'regulatory', 'protection', 'next', 'treasury', 'agreeing', 'principle', 'several', 'bragg', 'report', 'recommendations'], ['frydenberg', 'gets', 'trigger', 'pull', 'big', 'tech', 'line', 'paymentsglobal', 'companies', 'apple', 'alipay', 'muscling', 'billion', 'worth', 'payments', 'made', 'need', 'play', 'new', 'rules'], ['call', 'halve', 'rife', 'public', 'sector', 'bullying', 'harassment', 'rife', 'across', 'public', 'sector', 'says', 'head', 'national', 'professional', 'body', 'managers', 'held', 'account'], ['steggall', 'accuses', 'pm', 'using', 'berejiklian', 'cover', 'mp', 'zali', 'steggall', 'fazed', 'possibility', 'challenge', 'gladys', 'berejiklian'], ['migrants', 'boost', 'budget', 'bottom', 'line', 'treasuryskilled', 'migrants', 'contribute', 'federal', 'state', 'budgets', 'general', 'population', 'lifetimes', 'generally', 'better', 'job', 'prospects'], ['aussie', 'zinc', 'miner', 'switched', 'horses', 'china', 'usironbark', 'zinc', 'government', 'lender', 'exim', 'bank', 'greenland', 'mine', 'profiting', 'west', 'desire', 'curb', 'china', 'global', 'influence'], ['uae', 'moving', 'week', 'boost', 'productivitythe', 'united', 'arab', 'emirates', 'new', 'weekend', 'also', 'run', 'friday', 'noon', 'sunday', 'night', 'improve', 'work', 'life', 'balance', 'government', 'said'], ['ran', 'santas', 'saint', 'nick', 'shortage', 'spoils', 'holiday', 'cheerlike', 'industries', 'demand', 'workers', 'sector', 'surged', 'americans', 'try', 'return', 'pre', 'pandemic', 'life'], ['new', 'york', 'expands', 'vaccine', 'mandates', 'children', 'private', 'sectorthe', 'populous', 'city', 'set', 'december', 'deadline', 'businesses', 'within', 'limits', 'make', 'employees', 'show', 'proof', 'vaccinated'], ['pandemic', 'curbs', 'cut', 'housing', 'sales', 'almost', 'quartercheap', 'money', 'limited', 'stock', 'pushed', 'dwelling', 'prices', 'higher', 'latest', 'data', 'also', 'shows', 'risky', 'debts', 'rise'], ['property', 'sector', 'needs', 'leadership', 'dreams', 'canberra', 'dexus', 'gmthe', 'pm', 'seems', 'taken', 'inspiration', 'kevin', 'costner', 'field', 'dreams', 'comes', 'climate', 'goals', 'really', 'needed', 'government', 'capable', 'making', 'hard', 'decisions'], ['twiggy', 'forrest', 'adds', 'old', 'benedictine', 'farm', 'beef', 'empirethe', 'acquisition', 'new', 'norcia', 'farm', 'north', 'perth', 'benedictine', 'monks', 'adds', 'portfolio', 'spanning', 'million', 'hectares', 'wa', 'grazing', 'country'], ['aware', 'super', 'defence', 'dept', 'fill', 'cbd', 'towers', 'melbourne', 'sydneymajor', 'lease', 'deals', 'struck', 'cbd', 'space', 'help', 'restore', 'confidence', 'city', 'office', 'markets', 'disrupted', 'lockdowns', 'swing', 'hybrid', 'working'], ['green', 'bank', 'loan', 'sets', 'forza', 'energy', 'efficient', 'office', 'retrofitforza', 'capital', 'sights', 'star', 'nabers', 'rating', 'old', 'brisbane', 'office', 'building', 'refurbishment', 'program'], ['really', 'owns', 'smsf', 'assetsquestions', 'raised', 'fund', 'auditor', 'may', 'always', 'welcome', 'paying', 'attention', 'help', 'avoid', 'unnecessary', 'tax', 'penalties'], ['baby', 'boomers', 'pass', 'bythe', 'value', 'inheritances', 'rise', 'fourfold', 'says', 'myth', 'busting', 'report', 'productivity', 'commission', 'wealth', 'transfer', 'may', 'actually', 'reduce', 'inequality'], ['amazon', 'aws', 'cloud', 'users', 'report', 'issues', 'accessing', 'sitescoinbase', 'robinhood', 'netflix', 'among', 'websites', 'experiencing', 'problems', 'amazon', 'northeastern', 'division'], ['richard', 'hayes', 'leaves', 'perth', 'mint', 'tech', 'blowoutmint', 'director', 'john', 'collins', 'former', 'chief', 'wa', 'treasury', 'corporation', 'temporarily', 'acting', 'ceo'], ['mispronounced', 'words', 'omicron', 'dogecoinhere', 'botched', 'pronunciations', 'compiled', 'captioning', 'company', 'subtitles', 'real', 'time', 'events', 'tv', 'courtrooms'], ['half', 'women', 'quarter', 'men', 'sexually', 'harassed', 'absworkplaces', 'struggling', 'stamp', 'abuses', 'new', 'data', 'reveals', 'large', 'number', 'people', 'victims', 'sexual', 'harassment'], ['business', 'shows', 'world', 'sell', 'watches', 'onlineonline', 'sales', 'typically', 'account', 'per', 'cent', 'new', 'watch', 'purchases', 'define', 'watches', 'noosa', 'thanks', 'hybrid', 'business', 'model', 'per', 'cent'], ['high', 'hills', 'travel', 'indulgence', 'worthy', 'bygone', 'eraan', 'adelaide', 'icon', 'th', 'century', 'shares', 'grounds', 'new', 'property', 'fast', 'gaining', 'reputation', 'fine', 'hospitality', 'sequoia', 'lodge'], ['home', 'raised', 'ham', 'tinned', 'treats', 'five', 'women', 'talk', 'festive', 'tacticsthese', 'luminaries', 'almost', 'got', 'christmas', 'lunches', 'sorted', 'though', 'strategies', 'faint', 'hearted'], ['new', 'furniture', 'collection', 'captures', 'magic', 'imagined', 'sinspired', 'part', 'jetsons', 'american', 'designer', 'gabriel', 'hendifar', 'uses', 'four', 'scene', 'film', 'starring', 'model', 'debra', 'shaw', 'showcase', 'latest', 'apparatus', 'collection', 'called', 'act', 'iv'], ['paspaley', 'pearling', 'family', 'latest', 'luxury', 'venture', 'wall', 'streetin', 'downtown', 'manhattan', 'australians', 'created', 'lavish', 'hotel', 'touches', 'home'], ['david', 'rowe', 'cartoons', 'decembersee', 'david', 'rowe', 'cartoons', 'december'], ['great', 'summertime', 'reads', 'best', 'booksgreater', 'freedom', 'marks', 'new', 'chapter', 'time', 'holidays', 'whatever', 'plans', 'good', 'tome', 'always', 'take', 'beyond', 'borders'], ['bulgari', 'chief', 'reveals', 'high', 'end', 'watch', 'buyers', 'want', 'amid', 'covidthey', 'buying', 'less', 'better', 'says', 'luxury', 'brand', 'ceo', 'jean', 'christophe', 'babin', 'really', 'going', 'higher', 'ticket', 'timepieces'], ['thankyou', 'group', 'donates', 'suncorp', 'brambles', 'qbe', 'mirvacthe', 'social', 'enterprise', 'donated', 'million', 'help', 'alleviate', 'extreme', 'poverty', 'last', 'propelling', 'list', 'top', 'corporate', 'philanthropists', 'first', 'time'], ['millionaires', 'factory', 'hosts', 'seven', 'highest', 'paid', 'execsthe', 'skills', 'shortage', 'record', 'sharemarket', 'highs', 'boosted', 'executive', 'pay', 'per', 'cent', 'macquarie', 'group', 'executives', 'top', 'ranks', 'highly', 'paid', 'cfos'], ['companies', 'plug', 'skills', 'gap', 'increasing', 'charity', 'smith', 'family', 'hopes', 'growing', 'careers', 'project', 'provide', 'neat', 'solution', 'employers', 'ceo', 'adoption', 'baby', 'may', 'help'], ['crown', 'recovery', 'drives', 'packer', 'vehicle', 'profitjames', 'packer', 'per', 'cent', 'stake', 'crown', 'resorts', 'still', 'speaks', 'billion', 'net', 'assets', 'main', 'investment', 'vehicle', 'consolidated', 'press', 'holdings'], ['lessons', 'behind', 'heines', 'successthe', 'father', 'son', 'founders', 'billion', 'wealth', 'management', 'company', 'netwealth', 'tell', 'made', 'podcast', 'successful', 'people', 'focus', 'good'], ['stokes', 'backed', 'bci', 'bankrolls', 'salt', 'project', 'without', 'full', 'green', 'approvalbci', 'minerals', 'shares', 'surged', 'late', 'november', 'announced', 'environmental', 'approvals', 'mardie', 'salt', 'project', 'despite', 'approvals', 'smaller', 'less', 'profitable', 'project'], ['overseas', 'doctors', 'recruited', 'ease', 'pressure', 'wa', 'hospitals', 'yet', 'paid', 'carrotthe', 'relocation', 'fee', 'announced', 'august', 'among', 'raft', 'measures', 'bring', 'overseas', 'doctors', 'nurses', 'western'], ['albanese', 'target', 'sets', 'labor', 'collision', 'course', 'resources', 'rich', 'waanthony', 'albanese', 'climate', 'plan', 'generally', 'welcomed', 'industry', 'sets', 'ambitious', 'per', 'cent', 'reduction', 'target', 'jarringly', 'odds', 'wa', 'trajectory'], ['almost', 'wa', 'public', 'servants', 'refuse', 'covid', 'jab', 'vaccination', 'deadlineacross', 'government', 'entities', 'people', 'refused', 'vaccinated', 'gone', 'long', 'term', 'leave', 'government', 'unable', 'determine', 'vaccination', 'status'], ['child', 'sex', 'accused', 'mp', 'ensures', 'two', 'months', 'salary', 'brief', 'late', 'night', 'nationals', 'mp', 'james', 'hayward', 'made', 'appearance', 'upper', 'house', 'ensuring', 'continue', 'paid', 'salary', 'allowances', 'least', 'february'], ['rebels', 'bikie', 'nominee', 'jailed', 'stealing', 'buried', 'friend', 'backyardthe', 'teenager', 'friend', 'spent', 'stolen', 'money', 'luxury', 'items', 'including', 'cars', 'chains', 'boat', 'luxury', 'hotel', 'stay', 'crown'], ['campaigners', 'call', 'perth', 'councils', 'end', 'vaccine', 'status', 'councillors', 'across', 'state', 'line', 'sight', 'anti', 'vaxxer', 'pro', 'choice', 'campaigners', 'set', 'coordinated', 'group', 'protest', 'impending', 'workforce', 'vaccine', 'mandates'], ['charges', 'dropped', 'anti', 'vaxxer', 'nurse', 'accused', 'pretending', 'administer', 'covid', 'jaba', 'old', 'registered', 'nurse', 'police', 'accused', 'falsifying', 'covid', 'vaccination', 'record', 'charge', 'discontinued', 'court'], ['wa', 'sports', 'minister', 'doubles', 'adelaide', 'ashes', 'swap', 'perth', 'stripped', 'testcricket', 'chief', 'executive', 'nick', 'hockley', 'said', 'organisation', 'could', 'come', 'workable', 'arrangement', 'wa', 'government', 'wa', 'cricket'], ['home', 'sellers', 'deck', 'halls', 'listing', 'love', 'good', 'christmas', 'decoration', 'selling', 'festive', 'season', 'keep', 'lights', 'tinsel', 'ditch', 'altogether'], ['chanel', 'tiktok', 'beauty', 'advent', 'calendar', 'controversyhow', 'dustbag', 'chanel', 'unknown', 'tiktoker', 'prompted', 'multitude', 'users', 'call', 'foul', 'brand', 'rather', 'instagram', 'page'], ['queensland', 'reports', 'first', 'omicron', 'cases', 'quarantinethe', 'development', 'comes', 'state', 'reported', 'two', 'new', 'cases', 'hotel', 'quarantine', 'domestic', 'overseas', 'arrivals', 'health', 'minister', 'yvette', 'ath', 'says'], ['pub', 'tab', 'qld', 'hedges', 'bets', 'new', 'rules', 'health', 'directions', 'outlining', 'unvaccinated', 'queenslanders', 'go', 'december', 'released', 'tuesday'], ['brisbane', 'airport', 'slams', 'confusing', 'covid', 'guidelines', 'international', 'health', 'officials', 'must', 'friday', 'national', 'cabinet', 'meeting', 'agree', 'consistent', 'approach', 'international', 'arrivals', 'halt', 'confusion', 'brisbane', 'airport', 'corporation', 'says'], ['queensland', 'officials', 'might', 'still', 'go', 'beijing', 'prep', 'gamesbrisbane', 'named', 'host', 'city', 'olympics', 'suddenly', 'put', 'state', 'local', 'government', 'officials', 'middle', 'diplomatic', 'spat'], ['police', 'officer', 'hit', 'stolen', 'car', 'driven', 'directly', 'himthe', 'officer', 'hit', 'wednesday', 'morning', 'conducting', 'speed', 'checks', 'brisbane', 'south'], ['man', 'sentenced', 'life', 'killing', 'love', 'rival', 'gold', 'coastmark', 'vincent', 'dayney', 'relationship', 'sex', 'worker', 'bashed', 'former', 'lover', 'father', 'two', 'mark', 'emanuel', 'spencer', 'baseball', 'bat', 'racquet'], ['career', 'criminal', 'peter', 'foster', 'claimed', 'medical', 'condition', 'fleeing', 'policecareer', 'criminal', 'fugitive', 'peter', 'foster', 'arrested', 'extradited', 'queensland', 'police', 'tracked', 'victoria'], ['inquest', 'hears', 'details', 'hannah', 'clarke', 'haunting', 'last', 'wordshannah', 'last', 'words', 'also', 'revealed', 'pre', 'inquest', 'hearing', 'tuesday', 'ahead', 'full', 'coronial', 'inquiry', 'next'], ['great', 'venue', 'artists', 'come', 'force', 'urge', 'enoch', 'save', 'bowloprotesters', 'descended', 'king', 'george', 'square', 'tuesday', 'ask', 'arts', 'minister', 'leanne', 'enoch', 'intervene', 'council', 'plans', 'demolish', 'well', 'used', 'community', 'arts', 'space', 'east', 'brisbane'], ['gabba', 'echoes', 'change', 'steam', 'trains', 'underground', 'railrail', 'returning', 'woolloongabba', 'virtually', 'underneath', 'old', 'locomotive', 'yards', 'used', 'haul', 'coal', 'mines', 'port'], ['humans', 'shaped', 'biological', 'arms', 'race', 'apes', 'discovered', 'snakes', 'apes', 'locked', 'deadly', 'biological', 'arms', 'race', 'effects', 'seen', 'humans', 'today'], ['free', 'wheelers', 'happy', 'campers', 'swap', 'lockdown', 'life', 'roadabout', 'caravan', 'campervans', 'hit', 'road', 'across', 'summer', 'people', 'turn', 'domestic', 'travel', 'life', 'change'], ['second', 'man', 'shot', 'queensland', 'police', 'within', 'hours', 'siege', 'gunman', 'nameda', 'man', 'shot', 'hand', 'police', 'brisbane', 'less', 'another', 'man', 'died', 'shot', 'police', 'logan', 'siege'], ['planning', 'loopholes', 'blocking', 'residents', 'city', 'viewsall', 'see', 'top', 'floor', 'block', 'wall', 'ridges', 'around', 'brisbane', 'redeveloped', 'angering', 'existing', 'residents'], ['queenslanders', 'expect', 'state', 'borders', 'warned', 'learn', 'live', 'virus', 'way', 'previously', 'border', 'restrictions', 'hotspots', 'ease', 'next', 'week'], ['lower', 'drawbridge', 'queensland', 'reopen', 'next', 'reopen', 'states', 'monday', 'december', 'state', 'set', 'hit', 'key', 'percent', 'fully', 'vaccinated', 'benchmark'], ['top', 'brisbane', 'school', 'owes', 'coaches', 'coordinators', 'almost', 'milliona', 'non', 'government', 'school', 'two', 'campuses', 'south', 'east', 'queensland', 'underpaid', 'staff', 'eight', 'years'], ['asic', 'unveils', 'detailed', 'jobkeeper', 'data', 'yetthe', 'corporate', 'regulator', 'spreadsheet', 'reveals', 'fraction', 'total', 'billion', 'jobkeeper', 'program', 'went', 'public', 'companies'], ['game', 'set', 'match', 'lleyton', 'hewitt', 'sells', 'grand', 'slam', 'homeaussie', 'tennis', 'ace', 'lleyton', 'hewitt', 'tv', 'star', 'wife', 'bec', 'sold', 'toorak', 'home', 'lived', 'five', 'years', 'million', 'million'], ['architect', 'taken', 'aback', 'reaction', 'norfolk', 'pine', 'inspired', 'buildingwhen', 'scaffolding', 'came', 'new', 'apartment', 'building', 'gold', 'coast', 'social', 'media', 'flooded', 'photos', 'taken', 'awestruck', 'locals'], ['houses', 'buy', 'less', 'million', 'major', 'capitalsthis', 'segment', 'market', 'hot', 'property', 'even', 'run', 'homes', 'attracting', 'first', 'home', 'buyers', 'growing', 'families', 'try', 'foot', 'ladder'], ['boom', 'housing', 'market', 'growing', 'muchthe', 'latest', 'figures', 'reveal', 'housing', 'values', 'edged', 'upwards', 'november', 'slowest', 'rate', 'since', 'january'], ['bunnings', 'sausage', 'sizzles', 'astrazeneca', 'pots', 'reveal', 'future', 'gain', 'unique', 'insight', 'strange', 'fearful', 'days', 'unearth', 'sassy', 'park', 'apothecary', 'jars'], ['shane', 'warne', 'harsh', 'criticism', 'playersthe', 'leg', 'spinning', 'great', 'handle', 'criticism', 'well', 'player', 'mind', 'handing', 'commentator'], ['arnold', 'homecoming', 'risk', 'wallabies', 'stall', 'contractworld', 'class', 'second', 'rower', 'rory', 'arnold', 'test', 'wallaby', 'emerged', 'target', 'controversial', 'experiment', 'giteau', 'law'], ['wa', 'loses', 'ashes', 'despairing', 'bid', 'adelaide', 'testwestern', 'hard', 'border', 'officially', 'cost', 'state', 'ashes', 'test', 'match'], ['best', 'striker', 'world', 'inevitability', 'kerr', 'becoming', 'greatest', 'everafter', 'injury', 'gruelling', 'trip', 'back', 'england', 'matildas', 'star', 'sam', 'kerr', 'every', 'excuse', 'quiet', 'fa', 'cup', 'final', 'instead', 'scored', 'two', 'wonder', 'goals', 'player', 'match'], ['cummins', 'ready', 'captaincy', 'new', 'cricket', 'test', 'captain', 'pat', 'cummins', 'ready', 'accept', 'cherished', 'role', 'steps', 'onto', 'gabba', 'ashes'], ['wests', 'tigers', 'turn', 'star', 'dummy', 'half', 'brandon', 'smithwhile', 'wests', 'tigers', 'rejection', 'melbourne', 'star', 'brandon', 'smith', 'seemed', 'daft', 'first', 'club', 'laser', 'focused', 'building', 'future', 'rather', 'excavating', 'past'], ['amazon', 'cloud', 'outage', 'hits', 'major', 'websites', 'streaming', 'appsa', 'major', 'outage', 'disrupts', 'amazons', 'cloud', 'services', 'tuesday', 'temporarily', 'knocking', 'streaming', 'platforms', 'netflix', 'disney', 'trading', 'site', 'robinhood'], ['evergrande', 'likely', 'default', 'debt', 'deadline', 'passes', 'without', 'paymentchinese', 'developer', 'evergrande', 'likely', 'default', 'amid', 'reports', 'missed', 'final', 'bond', 'payment', 'deadline', 'markets', 'shrugging', 'amid', 'stimulus', 'chinas', 'central', 'bank'], ['queensland', 'records', 'first', 'cases', 'omicron', 'variant', 'covidhealth', 'authorities', 'two', 'different', 'lineages', 'variant', 'detected', 'people', 'queensland', 'quarantine', 'hotels'], ['call', 'stricter', 'coal', 'mine', 'clean', 'rules', 'protect', 'victorian', 'waterwaysa', 'new', 'report', 'outlines', 'history', 'coal', 'ash', 'leaching', 'groundwater', 'near', 'latrobe', 'valley', 'power', 'stations', 'environmental', 'groups', 'want', 'better', 'managed'], ['liverpool', 'ajax', 'make', 'six', 'six', 'champions', 'league', 'group', 'stageformer', 'winners', 'liverpool', 'semi', 'finalists', 'ajax', 'creat', 'champions', 'league', 'history', 'sailing', 'respective', 'groups', 'without', 'dropping', 'point'], ['live', 'covid', 'need', 'across', 'australiaget', 'speed', 'coronavirus', 'across', 'follow', 'live'], ['heart', 'sank', 'family', 'unknowingly', 'buys', 'asbestos', 'filled', 'home', 'milliondean', 'papas', 'builder', 'knew', 'well', 'acts', 'dark', 'history', 'mr', 'fluffy', 'housing', 'must', 'watch', 'new', 'home', 'demolished'], ['upside', 'drought', 'map', 'finally', 'clear', 'downside', 'flooding', 'expected', 'weekmore', 'rain', 'renewed', 'flooding', 'expected', 'east', 'week', 'many', 'catchments', 'already', 'capacity'], ['bellerive', 'really', 'nose', 'cricketwith', 'hobart', 'forced', 'race', 'secure', 'fifth', 'ashes', 'test', 'mainland', 'rivals', 'chris', 'rowbottom', 'asks', 'wasnt', 'awarded', 'outright', 'game', 'brittle', 'condition', 'playing', 'one', 'ashes', 'test', 'tasmania', 'see', 'crumble'], ['live', 'aussie', 'bowlers', 'take', 'three', 'wickets', 'first', 'half', 'hour', 'ashes', 'kick', 'starc', 'explodes', 'ashes', 'clean', 'bowling', 'rory', 'burns', 'first', 'ball', 'series', 'bowling', 'attack', 'carried', 'follow', 'live'], ['olympic', 'swimmer', 'maddie', 'groves', 'says', 'sexually', 'abused', 'man', 'still', 'works', 'olympic', 'swimmer', 'madeline', 'groves', 'says', 'sexually', 'abused', 'man', 'still', 'works', 'swimming', 'says', 'culture', 'misogyny', 'perversion', 'sport'], ['vote', 'greatest', 'mens', 'ashes', 'moment', 'past', 'yearsas', 'mens', 'ashes', 'series', 'finally', 'returns', 'shores', 'sport', 'looking', 'back', 'greatest', 'moments', 'past', 'years', 'vote', 'favourite', 'moment'], ['one', 'step', 'sporting', 'revolution', 'usman', 'khawaja', 'changing', 'face', 'usman', 'khawaja', 'talks', 'racism', 'cricket', 'urges', 'cricket', 'diversify', 'sake', 'game'], ['joins', 'diplomatic', 'boycott', 'beijing', 'winter', 'join', 'formal', 'boycott', 'beijing', 'winter', 'olympics', 'though', 'nations', 'athletes', 'still', 'allowed', 'attend', 'compete'], ['catastrophic', 'blunder', 'hands', 'magnus', 'carlsen', 'commanding', 'lead', 'world', 'chess', 'chess', 'champion', 'magnus', 'carlsen', 'closing', 'successful', 'title', 'defence', 'challenger', 'ian', 'nepomniachtchis', 'throws', 'away', 'game', 'nine', 'latest', 'string', 'errors'], ['emma', 'hugo', 'saving', 'house', 'deposit', 'invested', 'cryptocurrency', 'lost', 'allaustralian', 'police', 'cryptocurrency', 'scams', 'exploded', 'pandemic', 'three', 'families', 'sucked'], ['queenslands', 'covid', 'testing', 'rules', 'got', 'bit', 'complicated', 'heres', 'need', 'knowqueensland', 'open', 'interstate', 'covid', 'hotspots', 'next', 'monday', 'quarantine', 'requirement', 'latest', 'health', 'directive', 'require', 'visitors', 'tested', 'covid', 'fifth', 'visit', 'heres', 'thats', 'required'], ['aung', 'san', 'suu', 'kyi', 'sentenced', 'led', 'former', 'icon', 'myanmars', 'pro', 'democracy', 'movement', 'chargedaung', 'sang', 'suu', 'kyi', 'set', 'spend', 'next', 'two', 'years', 'detention', 'case', 'widely', 'seen', 'contrived', 'dismissed', 'critics', 'farce'], ['heres', 'know', 'provisional', 'approval', 'younger', 'kids', 'covid', 'vaccinewhen', 'kids', 'pfizer', 'vaccine', 'adults', 'receive', 'kids', 'getting', 'details', 'rollout', 'vaccines', 'children', 'aged', 'five', 'years'], ['charging', 'parents', 'school', 'shooting', 'unusual', 'happened', 'beforeguns', 'used', 'united', 'states', 'school', 'shootings', 'often', 'come', 'homes', 'young', 'perpetrators', 'parents', 'rarely', 'charged', 'violence', 'occurs', 'experts'], ['john', 'lennon', 'killed', 'new', 'york', 'different', 'story', 'unfolding', 'sydneyjohn', 'lennon', 'gunned', 'new', 'york', 'apartment', 'years', 'ago', 'beatles', 'fans', 'remember', 'including', 'reporter', 'jason', 'dasey', 'chasing', 'soviet', 'defector', 'sydney', 'harbour', 'height', 'cold', 'war'], ['surprising', 'architect', 'behind', 'labors', 'climate', 'plans', 'retiring', 'coalition', 'ministerbefore', 'became', 'health', 'minister', 'greg', 'hunt', 'spent', 'years', 'thinking', 'mechanisms', 'getting', 'emissions', 'elected', 'labor', 'plans', 'road', 'test', 'one', 'introduced', 'writes', 'peter', 'martin'], ['believe', 'foam', 'roller', 'helps', 'muscle', 'pain', 'exercise', 'heres', 'science', 'saysmany', 'people', 'swear', 'foam', 'rollers', 'reduce', 'muscle', 'pain', 'increase', 'flexibility', 'exercise', 'science', 'support', 'anecdotal', 'evidence', 'encourages'], ['miners', 'drive', 'asx', 'higher', 'wall', 'streets', 'tech', 'stocks', 'jump', 'omicron', 'fears', 'shares', 'risen', 'morning', 'trade', 'global', 'markets', 'rebounded', 'second', 'straight', 'views', 'omicron', 'covid', 'variant', 'cause', 'major', 'economic', 'damage'], ['filter', 'crispy', 'bits', 'leftover', 'chip', 'oil', 'keep', 'ev', 'owners', 'moving', 'across', 'nullarborev', 'owners', 'crowdfunding', 'fast', 'charger', 'middle', 'nullarbor', 'run', 'leftover', 'chip', 'oil', 'local', 'roadhouse'], ['never', 'worked', 'hard', 'lose', 'much', 'wineries', 'struggle', 'recover', 'covid', 'victorias', 'yarra', 'valley', 'turning', 'busloads', 'eager', 'customers', 'away', 'close', 'cellar', 'doors', 'altogether', 'due', 'ongoing', 'staff', 'shortages'], ['quiet', 'night', 'cleo', 'smith', 'found', 'cameraman', 'strange', 'inklingjames', 'carmody', 'reflects', 'three', 'weeks', 'covering', 'search', 'cleo', 'smith', 'interviewing', 'distraught', 'parents', 'pleaded', 'public', 'help', 'moment', 'learnt', 'little', 'girl', 'found'], ['grain', 'hope', 'campaign', 'launched', 'raise', 'money', 'cancer', 'grain', 'growers', 'experiencing', 'one', 'best', 'seasons', 'recent', 'memory', 'asked', 'donate', 'harvest', 'help', 'fight', 'cancer'], ['victorian', 'queer', 'community', 'finding', 'beauty', 'identity', 'clothing', 'swapwhen', 'getting', 'ready', 'morning', 'rummage', 'wardrobe', 'trying', 'pick', 'going', 'wear', 'people', 'simple'], ['six', 'hannah', 'suffered', 'massive', 'stroke', 'shes', 'back', 'classroom', 'thanks', 'program', 'started', 'inhow', 'hannah', 'seriously', 'ill', 'children', 'stay', 'connected', 'school', 'friends', 'studies', 'help', 'perth', 'childrens', 'hospital', 'school', 'program'], ['traditional', 'owners', 'mission', 'save', 'vulnerable', 'black', 'breasted', 'button', 'quail', 'gari', 'fraser', 'islandthe', 'butchulla', 'land', 'sea', 'rangers', 'join', 'researchers', 'using', 'trail', 'cameras', 'study', 'birds', 'understand', 'impact', 'drought', 'bushfires'], ['everything', 'need', 'know', 'ahead', 'first', 'ashes', 'test', 'gabbathe', 'first', 'ashes', 'test', 'gets', 'underway', 'gabba', 'wednesday', 'heres', 'everything', 'need', 'know'], ['angsty', 'coming', 'age', 'movie', 'musical', 'captures', 'full', 'bodied', 'agony', 'teenagerthe', 'movie', 'adaptation', 'tony', 'award', 'winning', 'musical', 'dear', 'evan', 'hansen', 'moves', 'smoother', 'screen', 'stage', 'thanks', 'deft', 'direction', 'revisions', 'broadway', 'script'], ['mental', 'health', 'struggles', 'connection', 'worth', 'muslimwhen', 'lina', 'faced', 'mental', 'health', 'problems', 'says', 'community', 'told', 'wasnt', 'praying', 'enough', 'ungrateful', 'un', 'islamic', 'person', 'wants', 'change'], ['finding', 'youre', 'bit', 'covid', 'anxious', 'ahead', 'tasmanias', 'border', 'reopening', 'tips', 'may', 'helplife', 'tasmania', 'relatively', 'normal', 'lockdown', 'free', 'wonder', 'people', 'feeling', 'little', 'anxious', 'states', 'border', 'reopening', 'weeks', 'time', 'ease', 'concern'], ['still', 'obsessed', 'sex', 'city', 'despite', 'awful', 'characters', 'miranda', 'charlotte', 'carrie', 'racist', 'transphobic', 'biphobic', 'things', 'original', 'series', 'love', 'show', 'despite', 'reboot', 'different', 'aside', 'samantha', 'sized', 'hole'], ['built', 'savings', 'covid', 'economists', 'expect', 'splurge', 'much', 'expected', 'splash', 'much', 'cash', 'stashed', 'lockdowns', 'christmas', 'spending', 'october', 'november', 'sales', 'already', 'recorded', 'big', 'gains'], ['boss', 'sacked', 'staff', 'video', 'call', 'could', 'happen', 'herea', 'mortgage', 'company', 'sacked', 'hundreds', 'employees', 'video', 'call', 'christmas', 'experts', 'protections', 'behaviour'], ['happens', 'covid', 'sneaks', 'party', 'vaccinated', 'breakthrough', 'infections', 'explainedwhile', 'world', 'waits', 'anxiously', 'information', 'omicron', 'experts', 'warn', 'delta', 'still', 'dominant', 'variant', 'across', 'globe', 'outbreak', 'american', 'high', 'school', 'reunion', 'shows', 'power', 'virus', 'potency', 'vaccines'], ['dollar', 'falling', 'hints', 'problem', 'homeownerswhen', 'aussie', 'dollar', 'shows', 'signs', 'moving', 'significantly', 'one', 'way', 'economists', 'take', 'notice', 'starting', 'fall', 'writes', 'david', 'taylor'], ['host', 'affordable', 'cheerful', 'aussie', 'christmas', 'avoid', 'silly', 'season', 'blueschristmas', 'time', 'overspending', 'overeating', 'plastic', 'waste', 'heres', 'one', 'nsw', 'family', 'creates', 'distinctly', 'festive', 'season'], ['cancer', 'patients', 'face', 'higher', 'risks', 'others', 'women', 'hoping', 'change', 'thatnavigating', 'healthcare', 'system', 'tough', 'cancer', 'patients', 'multicultural', 'backgrounds', 'face', 'risks', 'challenges', 'general', 'population', 'university', 'project', 'support', 'women', 'lived', 'experience', 'helping', 'make', 'treatment', 'safer'], ['queenslands', 'reopening', 'border', 'bubble', 'rules', 'bringing', 'forward', 'much', 'awaited', 'reopening', 'dropping', 'border', 'restrictions', 'interstate', 'travellers', 'december', 'four', 'days', 'earlier', 'predicted', 'opening', 'nsw', 'border', 'zone', 'residents'], ['travelling', 'unvaccinated', 'children', 'heres', 'knowradhika', 'travelling', 'india', 'visit', 'family', 'friends', 'long', 'time', 'separation', 'due', 'border', 'closures', 'shes', 'anxious', 'going', 'overseas', 'children', 'yet', 'eligible', 'covid', 'vaccine'], ['could', 'apartments', 'like', 'purpose', 'built', 'renters', 'help', 'solve', 'canberras', 'housing', 'crisisthe', 'act', 'government', 'high', 'hopes', 'build', 'rent', 'developments', 'though', 'remain', 'years', 'away', 'housing', 'anyone'], ['protect', 'family', 'friends', 'colleagues', 'start', 'talking', 'diets', 'everydayyou', 'know', 'someone', 'declares', 'something', 'like', 'im', 'new', 'diet', 'effective', 'dont', 'eat', 'anything', 'feel', 'like', 'im', 'faint', 'eat', 'cube', 'cheese', 'except', 'never', 'asked', 'leads', 'yucky', 'body', 'feelings', 'heres', 'deal'], ['hit', 'shaun', 'knew', 'wanted', 'kids', 'hed', 'alonewhen', 'hit', 'shaun', 'resnik', 'decided', 'wanted', 'pursue', 'dream', 'becoming', 'parent', 'single', 'gay', 'man', 'never', 'going', 'simple', 'journey'], ['sending', 'indoor', 'plant', 'outdoor', 'holiday', 'might', 'save', 'life', 'everydayyellow', 'droopy', 'indoor', 'plants', 'arent', 'ideal', 'things', 'save', 'keep', 'thriving'], ['hi', 'res', 'terrain', 'data', 'reveals', 'evidence', 'widespread', 'illegal', 'logging', 'critical', 'drinking', 'water', 'catchmentshigh', 'resolution', 'spatial', 'data', 'information', 'obtained', 'part', 'investigation', 'sparks', 'allegations', 'widespread', 'systemic', 'illegal', 'logging', 'protected', 'victorian', 'water', 'catchments'], ['deep', 'political', 'connections', 'even', 'deeper', 'pockets', 'australias', 'powerful', 'lobby', 'amassed', 'enormous', 'powerwhen', 'andrew', 'wilkie', 'took', 'countrys', 'persuasive', 'political', 'operators', 'wasnt', 'prepared', 'bloodbath', 'followed'], ['dung', 'beetles', 'tiny', 'molecule', 'giant', 'extension', 'cord', 'could', 'help', 'solve', 'climate', 'messheres', 'could', 'become', 'renewable', 'superpower', 'sounds', 'good', 'true', 'tell'], ['jackpot', 'gambling', 'industry', 'cashed', 'political', 'donationsover', 'million', 'legal', 'gambling', 'related', 'payments', 'least', 'double', 'previously', 'identified', 'flowed', 'coffers', 'political', 'parties', 'past', 'years', 'investigation', 'reveal'], ['whats', 'wrong', 'mum', 'feels', 'like', 'live', 'long', 'covidas', 'comes', 'grips', 'idea', 'living', 'covid', 'freya', 'judy', 'adam', 'already', 'know', 'thats', 'like', 'theyre', 'part', 'growing', 'number', 'people', 'long', 'covid', 'want', 'help', 'understand', 'feels', 'like'], ['pop', 'stars', 'sung', 'praises', 'sony', 'musics', 'staff', 'abuse', 'insiders', 'break', 'silence', 'expose', 'endured', 'sony', 'music', 'reign', 'denis', 'handlin', 'decades', 'appalling', 'behaviour', 'normalised', 'ignored'], ['former', 'elite', 'swimmers', 'come', 'forward', 'accuse', 'coach', 'abusing', 'boysafter', 'unexpected', 'death', 'olympic', 'swimmer', 'alleged', 'hed', 'sexually', 'abused', 'swimming', 'coach', 'uncovered', 'stories', 'two', 'men', 'abused', 'coach', 'pool'], ['ones', 'going', 'give', 'million', 'make', 'movie', 'writer', 'matthew', 'reilly', 'found', 'way', 'crack', 'reilly', 'already', 'millions', 'glued', 'pages', 'books', 'hoping', 'replicate', 'success', 'debut', 'director', 'new', 'netflix', 'action', 'movie'], ['dead', 'white', 'mans', 'clothes', 'dirty', 'secret', 'behind', 'worlds', 'fashion', 'addictionfor', 'decades', 'wests', 'unwanted', 'fashion', 'made', 'way', 'used', 'clothing', 'markets', 'africa', 'fuelling', 'environmental', 'catastrophe'], ['says', 'european', 'covid', 'rates', 'highest', 'children', 'vaccine', 'mandates', 'last', 'resortthe', 'world', 'health', 'organization', 'says', 'needs', 'done', 'protect', 'schools', 'amid', 'rapid', 'increase', 'cases', 'among', 'children', 'europe', 'worlds', 'covid', 'epicentre'], ['maxwell', 'accuser', 'claims', 'given', 'epstein', 'sexual', 'massages', 'wasa', 'third', 'woman', 'accused', 'ghislaine', 'maxwell', 'grooming', 'abuse', 'late', 'financier', 'jeffrey', 'epstein', 'testifies', 'british', 'socialites', 'criminal', 'trial', 'old', 'gave', 'epstein', 'sexual', 'massages'], ['fear', 'misinformation', 'struck', 'pacific', 'community', 'youth', 'took', 'standwhen', 'vaccine', 'anxiety', 'swept', 'australias', 'diverse', 'communities', 'local', 'heroes', 'call', 'offer', 'support', 'meet', 'volunteers', 'helped', 'overcome', 'panic', 'anxiety', 'covid'], ['ousted', 'myanmar', 'leader', 'suu', 'kyis', 'prison', 'sentence', 'reduced', 'two', 'yearsmyanmars', 'court', 'found', 'suu', 'kyi', 'guilty', 'incitement', 'violating', 'coronavirus', 'restrictions'], ['sydney', 'opera', 'house', 'illuminates', 'life', 'acting', 'legend', 'david', 'gulpilil', 'posthumous', 'tributeimages', 'one', 'australias', 'greatest', 'actors', 'david', 'gulpilil', 'lit', 'sails', 'sydney', 'opera', 'house', 'nation', 'continues', 'pay', 'tribute', 'late', 'northern', 'territory', 'movie', 'stars', 'life', 'films'], ['gotyes', 'somebody', 'used', 'know', 'joins', 'aussie', 'anthems', 'official', 'sound', 'australiakevin', 'rudds', 'apology', 'australias', 'indigenous', 'peoples', 'gotyes', 'somebody', 'used', 'know', 'among', 'new', 'recordings', 'inducted', 'national', 'film', 'sound', 'archives', 'sounds'], ['great', 'time', 'spider', 'man', 'fana', 'stack', 'spider', 'man', 'related', 'movies', 'set', 'swing', 'cinemas', 'fans', 'web', 'spinning', 'superhero', 'couldnt', 'happier'], ['omicron', 'may', 'able', 'evade', 'vaccines', 'heres', 'pfizer', 'moderna', 'astrazeneca', 'plannedthe', 'emergence', 'new', 'covid', 'variant', 'put', 'scientists', 'vaccine', 'manufacturers', 'notice', 'world', 'anxiously', 'waits', 'answers', 'everything', 'experts', 'stay', 'ahead', 'omicron'], ['ask', 'missing', 'colon', 'life', 'health', 'dating', 'ulcerative', 'colitisamelia', 'shares', 'experience', 'living', 'severe', 'ulcerative', 'colitis', 'shes', 'found', 'open', 'condition', 'helped', 'back', 'living', 'best', 'life', 'sense', 'humour', 'helps'], ['lauras', 'father', 'died', 'ndia', 'told', 'old', 'grandmother', 'look', 'heran', 'old', 'grandmother', 'grieving', 'sudden', 'loss', 'son', 'told', 'national', 'disability', 'insurance', 'agency', 'take', 'care', 'old', 'daughter', 'lives', 'disabilities'], ['demand', 'roof', 'oyster', 'growers', 'fear', 'supply', 'shortage', 'ahead', 'christmasoyster', 'growers', 'northern', 'new', 'south', 'wales', 'fear', 'able', 'meet', 'high', 'demand', 'product', 'christmas', 'new', 'years', 'period', 'rain', 'smashes', 'estuaries', 'across', 'coast'], ['farmers', 'still', 'face', 'higher', 'rates', 'suicide', 'one', 'death', 'every', 'days', 'relationship', 'breakdown', 'underlying', 'depression', 'easy', 'access', 'guns', 'found', 'key', 'risk', 'factors', 'suicide', 'rate', 'per', 'cent', 'higher', 'rates', 'among', 'non', 'farmers']]\n",
            "[['confirm', 'confirm', 'official', 'upcome']]\n"
          ]
        }
      ]
    },
    {
      "cell_type": "code",
      "metadata": {
        "id": "zZz-JOCYFAbi",
        "colab": {
          "base_uri": "https://localhost:8080/"
        },
        "outputId": "1f81616a-d557-4581-972c-ec6fbc0e9067"
      },
      "source": [
        "# Create Dictionary\n",
        "id2word = corpora.Dictionary(data_lemmatized)\n",
        "\n",
        "# Create Corpus\n",
        "texts = data_lemmatized\n",
        "\n",
        "# Term Document Frequency\n",
        "corpus = [id2word.doc2bow(text) for text in texts]\n",
        "\n",
        "# View\n",
        "print(corpus[:1])"
      ],
      "execution_count": 156,
      "outputs": [
        {
          "output_type": "stream",
          "name": "stdout",
          "text": [
            "[[(0, 2), (1, 1), (2, 1)]]\n"
          ]
        }
      ]
    },
    {
      "cell_type": "code",
      "metadata": {
        "colab": {
          "base_uri": "https://localhost:8080/",
          "height": 35
        },
        "id": "jY8mWSxfFAY6",
        "outputId": "ce18a22d-9dc6-459d-f889-b1a6f9ff4be4"
      },
      "source": [
        "id2word[0]"
      ],
      "execution_count": 157,
      "outputs": [
        {
          "output_type": "execute_result",
          "data": {
            "application/vnd.google.colaboratory.intrinsic+json": {
              "type": "string"
            },
            "text/plain": [
              "'confirm'"
            ]
          },
          "metadata": {},
          "execution_count": 157
        }
      ]
    },
    {
      "cell_type": "code",
      "metadata": {
        "colab": {
          "base_uri": "https://localhost:8080/"
        },
        "id": "4OCAyfMPFAWB",
        "outputId": "a200efe5-6913-4e46-8ec6-97a948aaedcb"
      },
      "source": [
        "# Human readable format of corpus (term-frequency)\n",
        "[[(id2word[id], freq) for id, freq in cp] for cp in corpus[:1]]"
      ],
      "execution_count": 158,
      "outputs": [
        {
          "output_type": "execute_result",
          "data": {
            "text/plain": [
              "[[('confirm', 2), ('official', 1), ('upcome', 1)]]"
            ]
          },
          "metadata": {},
          "execution_count": 158
        }
      ]
    },
    {
      "cell_type": "markdown",
      "source": [
        "##Application of the LDA Model  / Hyperparameters\n",
        "\n",
        "\n",
        "The initial machine learning algorithm applied is the LDA model from the gensim library in Python, LDA uses a probabilistic algorithm to align text to unspecified topics, which may not align to human categorisation (AWS, 2021). Documents within a topic group may not share the same content, but they should share more characteristics than a document from a different topic group (AWS, 2021).\n",
        "\n",
        "Initial hyperparameters selected for the LDA model are\n",
        "\n",
        "*  Number of topics: 8\n",
        "*  Random rate: 100 (To ensure consistent results are achieved using the same dataset on each pass) \n",
        "*  Update_Every: 1 \n",
        "*  Chunk size: 100\n",
        "*  Alpha: ‘auto’\n",
        "*  Per_word_Topics: True\n",
        "\n",
        "As the corpus is small in this instance, computational effort is not a consideration, the Number of topics was set to 8 as the initial pass to increase the group sizes.\n",
        "\n",
        "\n",
        "\n"
      ],
      "metadata": {
        "id": "RK03PXBiIgq0"
      }
    },
    {
      "cell_type": "code",
      "metadata": {
        "id": "GyULzOpQFASr"
      },
      "source": [
        "lda_model = gensim.models.ldamodel.LdaModel(corpus=corpus,\n",
        "                                           id2word=id2word,\n",
        "                                           num_topics=8, \n",
        "                                           random_state=100,\n",
        "                                           update_every=1,\n",
        "                                           chunksize=100,\n",
        "                                           passes=10,\n",
        "                                           alpha='auto',\n",
        "                                           per_word_topics=True)"
      ],
      "execution_count": 159,
      "outputs": []
    },
    {
      "cell_type": "code",
      "metadata": {
        "id": "S8B7pKUMFANd",
        "colab": {
          "base_uri": "https://localhost:8080/"
        },
        "outputId": "7f60fb0e-50ae-434d-c7bb-0bf57bd8e9f8"
      },
      "source": [
        "# Print the Keyword in the 10 topics\n",
        "pprint(lda_model.print_topics())\n",
        "doc_lda = lda_model[corpus]"
      ],
      "execution_count": 160,
      "outputs": [
        {
          "output_type": "stream",
          "name": "stdout",
          "text": [
            "[(0,\n",
            "  '0.018*\"border\" + 0.013*\"great\" + 0.011*\"ahead\" + 0.011*\"high\" + '\n",
            "  '0.010*\"open\" + 0.008*\"political\" + 0.008*\"pay\" + 0.008*\"year\" + '\n",
            "  '0.008*\"reopen\" + 0.007*\"call\"'),\n",
            " (1,\n",
            "  '0.013*\"make\" + 0.010*\"live\" + 0.010*\"ash\" + 0.010*\"movie\" + 0.010*\"expect\" '\n",
            "  '+ 0.008*\"help\" + 0.008*\"week\" + 0.008*\"join\" + 0.008*\"show\" + '\n",
            "  '0.008*\"program\"'),\n",
            " (2,\n",
            "  '0.013*\"state\" + 0.010*\"family\" + 0.009*\"covid\" + 0.009*\"ask\" + 0.009*\"home\" '\n",
            "  '+ 0.008*\"friend\" + 0.008*\"tell\" + 0.008*\"good\" + 0.008*\"year\" + '\n",
            "  '0.008*\"game\"'),\n",
            " (3,\n",
            "  '0.013*\"take\" + 0.012*\"variant\" + 0.012*\"police\" + 0.011*\"see\" + '\n",
            "  '0.011*\"spend\" + 0.010*\"ashe\" + 0.010*\"local\" + 0.008*\"asset\" + 0.008*\"go\" + '\n",
            "  '0.008*\"much\"'),\n",
            " (4,\n",
            "  '0.013*\"know\" + 0.012*\"market\" + 0.011*\"life\" + 0.010*\"help\" + 0.010*\"still\" '\n",
            "  '+ 0.010*\"world\" + 0.010*\"man\" + 0.010*\"company\" + 0.009*\"give\" + '\n",
            "  '0.009*\"may\"'),\n",
            " (5,\n",
            "  '0.016*\"vaccine\" + 0.013*\"old\" + 0.012*\"use\" + 0.012*\"abuse\" + 0.011*\"get\" + '\n",
            "  '0.011*\"say\" + 0.011*\"child\" + 0.009*\"case\" + 0.009*\"high\" + 0.009*\"here\"'),\n",
            " (6,\n",
            "  '0.019*\"rate\" + 0.013*\"late\" + 0.011*\"need\" + 0.010*\"staff\" + 0.010*\"help\" + '\n",
            "  '0.009*\"long\" + 0.009*\"government\" + 0.008*\"project\" + 0.008*\"increase\" + '\n",
            "  '0.008*\"family\"'),\n",
            " (7,\n",
            "  '0.014*\"back\" + 0.014*\"price\" + 0.014*\"public\" + 0.013*\"first\" + '\n",
            "  '0.010*\"sector\" + 0.010*\"property\" + 0.010*\"reveal\" + 0.009*\"market\" + '\n",
            "  '0.009*\"home\" + 0.009*\"housing\"')]\n"
          ]
        }
      ]
    },
    {
      "cell_type": "markdown",
      "source": [
        "One measure of the LDA model performance is around the coherence score, a lower score indicates a noisy or sparse dataset where the multinomial distribution is not sufficient enough to produce the top 10 most probable words, but may contain some words that may vaguely be interpretable, or be completely unrelated (Buntine, Bonilla, & Newman, 2011).  The perplexity score relates to how predictable the text the algorithm is ‘seeing’ is (Frankenberg, et al., 2019), the lower a perplexity score is the less surprised the model is by the text (Kapadia, 2019)\n",
        "\n",
        "The initial result indicates that the coherence score is relatively low, which is not unexpected due to the sparse corpus.\n"
      ],
      "metadata": {
        "id": "1qiQdprkJhAY"
      }
    },
    {
      "cell_type": "code",
      "metadata": {
        "id": "YQTpGE9PFAGR",
        "colab": {
          "base_uri": "https://localhost:8080/"
        },
        "outputId": "9a562bb7-399c-42f1-f719-629788ccfa14"
      },
      "source": [
        "\n",
        "# Compute Perplexity\n",
        "print('\\nPerplexity: ', lda_model.log_perplexity(corpus))  # a measure of how good the model is. lower the better.\n",
        "\n",
        "# Compute Coherence Score\n",
        "coherence_model_lda = CoherenceModel(model=lda_model, texts=data_lemmatized, dictionary=id2word, coherence='c_v')\n",
        "coherence_lda = coherence_model_lda.get_coherence()\n",
        "print('\\nCoherence Score: ', coherence_lda)\n"
      ],
      "execution_count": 161,
      "outputs": [
        {
          "output_type": "stream",
          "name": "stdout",
          "text": [
            "\n",
            "Perplexity:  -8.045710777644873\n",
            "\n",
            "Coherence Score:  0.5333514557905927\n"
          ]
        }
      ]
    },
    {
      "cell_type": "markdown",
      "source": [
        "\n",
        "Figure 1 shows the resulting topical groupings based on the initial pass of the model, the ideal model has larger sized bubbles, that have little overlap and are evenly spread throughout the grid (Pranhakaran, 2018)"
      ],
      "metadata": {
        "id": "KC44oGXoJFVz"
      }
    },
    {
      "cell_type": "code",
      "metadata": {
        "colab": {
          "base_uri": "https://localhost:8080/"
        },
        "id": "ZdcGKLokDiB9",
        "outputId": "fc48a939-e575-47cf-95f6-7f29fa1cc5ad"
      },
      "source": [
        "# Visualize the topics\n",
        "pyLDAvis.enable_notebook()\n",
        "vis = pyLDAvis.gensim_models.prepare(lda_model, corpus, id2word)\n",
        "vis\n",
        "print(\"Figure 1 Results of the initial 8 grouping after applying the LDA model\" )"
      ],
      "execution_count": 179,
      "outputs": [
        {
          "output_type": "stream",
          "name": "stderr",
          "text": [
            "/usr/local/lib/python3.7/dist-packages/pyLDAvis/_prepare.py:247: FutureWarning: In a future version of pandas all arguments of DataFrame.drop except for the argument 'labels' will be keyword-only\n",
            "  by='saliency', ascending=False).head(R).drop('saliency', 1)\n"
          ]
        },
        {
          "output_type": "stream",
          "name": "stdout",
          "text": [
            "Figure 1 Results of the initial 8 grouping after applying the LDA model\n"
          ]
        }
      ]
    },
    {
      "cell_type": "markdown",
      "source": [
        "An alternative model to gensim in python is mallet, this model is a java based application and has higher quality topics, it relies on Gibbs sampling which is more precise but has a higher computational time than Gensim which uses Variational Bayes sampling (Naskar, 2021)"
      ],
      "metadata": {
        "id": "4aCUPKHVJnFf"
      }
    },
    {
      "cell_type": "code",
      "metadata": {
        "colab": {
          "base_uri": "https://localhost:8080/"
        },
        "id": "hpCTYQWqJO-8",
        "outputId": "5a45f876-cc23-4ae9-84fa-341420997c42"
      },
      "source": [
        "import gensim\n",
        "import gensim.corpora as corpora\n",
        "from gensim.utils import simple_preprocess\n",
        "from gensim.models.wrappers import LdaMallet\n",
        "from gensim.models.coherencemodel import CoherenceModel\n",
        "from gensim import similarities\n",
        "\n",
        "import os.path\n",
        "import re\n",
        "import glob\n",
        "\n",
        "import nltk\n",
        "nltk.download('stopwords')\n",
        "\n",
        "from nltk.tokenize import RegexpTokenizer\n",
        "from nltk.corpus import stopwords"
      ],
      "execution_count": 163,
      "outputs": [
        {
          "output_type": "stream",
          "name": "stdout",
          "text": [
            "[nltk_data] Downloading package stopwords to /root/nltk_data...\n",
            "[nltk_data]   Package stopwords is already up-to-date!\n"
          ]
        }
      ]
    },
    {
      "cell_type": "code",
      "metadata": {
        "id": "_LKBOB6hJO4R"
      },
      "source": [
        "os.environ['MALLET_HOME'] = '/content/mallet-2.0.8'\n",
        "mallet_path = '/content/mallet-2.0.8/bin/mallet'"
      ],
      "execution_count": 164,
      "outputs": []
    },
    {
      "cell_type": "code",
      "metadata": {
        "id": "ygHHWo5gHCbe"
      },
      "source": [
        "import os\n",
        "from gensim.models.wrappers import LdaMallet\n",
        "#https://www.machinelearningplus.com/nlp/topic-modeling-gensim-python/#9createbigramandtrigrammodels\n",
        "\n",
        "#Download File: http://mallet.cs.umass.edu/dist/mallet-2.0.8.zip\n",
        "#mallet_path = '/content/drive/My Drive/Assessment_3/mallet-2.0.8/bin/mallet' # update this path\n",
        "ldamallet = gensim.models.wrappers.LdaMallet(mallet_path, corpus=corpus, num_topics=8, id2word=id2word)"
      ],
      "execution_count": 165,
      "outputs": []
    },
    {
      "cell_type": "markdown",
      "source": [
        "The implementation of mallet requires additional installation steps as outlined below, once applied using the same hyperparameters from the original implementation the coherence score improves."
      ],
      "metadata": {
        "id": "HFDqilUuJsA0"
      }
    },
    {
      "cell_type": "code",
      "metadata": {
        "colab": {
          "base_uri": "https://localhost:8080/"
        },
        "id": "bhHAGXULMR9L",
        "outputId": "4e251311-e0a8-4774-eb2f-63276c9988b8"
      },
      "source": [
        "pprint(ldamallet.show_topics(formatted=False))\n",
        "\n",
        "# Compute Coherence Score\n",
        "coherence_model_ldamallet = CoherenceModel(model=ldamallet, texts=data_lemmatized, dictionary=id2word, coherence='c_v')\n",
        "coherence_ldamallet = coherence_model_ldamallet.get_coherence()\n",
        "print('\\nCoherence Score: ', coherence_ldamallet)"
      ],
      "execution_count": 166,
      "outputs": [
        {
          "output_type": "stream",
          "name": "stdout",
          "text": [
            "[(0,\n",
            "  [('government', 0.0367965367965368),\n",
            "   ('find', 0.030303030303030304),\n",
            "   ('border', 0.021645021645021644),\n",
            "   ('plan', 0.017316017316017316),\n",
            "   ('week', 0.015151515151515152),\n",
            "   ('call', 0.015151515151515152),\n",
            "   ('long', 0.015151515151515152),\n",
            "   ('human', 0.012987012987012988),\n",
            "   ('chief', 0.010822510822510822),\n",
            "   ('low', 0.010822510822510822)]),\n",
            " (1,\n",
            "  [('late', 0.031936127744510975),\n",
            "   ('year', 0.027944111776447105),\n",
            "   ('child', 0.02594810379241517),\n",
            "   ('school', 0.01996007984031936),\n",
            "   ('ash', 0.017964071856287425),\n",
            "   ('test', 0.015968063872255488),\n",
            "   ('project', 0.013972055888223553),\n",
            "   ('world', 0.013972055888223553),\n",
            "   ('claim', 0.013972055888223553),\n",
            "   ('happen', 0.011976047904191617)]),\n",
            " (2,\n",
            "  [('live', 0.034482758620689655),\n",
            "   ('pay', 0.028017241379310345),\n",
            "   ('woman', 0.021551724137931036),\n",
            "   ('change', 0.021551724137931036),\n",
            "   ('case', 0.01939655172413793),\n",
            "   ('property', 0.01939655172413793),\n",
            "   ('run', 0.017241379310344827),\n",
            "   ('face', 0.017241379310344827),\n",
            "   ('health', 0.015086206896551725),\n",
            "   ('grow', 0.015086206896551725)]),\n",
            " (3,\n",
            "  [('home', 0.03463203463203463),\n",
            "   ('family', 0.02813852813852814),\n",
            "   ('follow', 0.01948051948051948),\n",
            "   ('company', 0.01948051948051948),\n",
            "   ('race', 0.017316017316017316),\n",
            "   ('variant', 0.015151515151515152),\n",
            "   ('give', 0.015151515151515152),\n",
            "   ('expert', 0.012987012987012988),\n",
            "   ('friend', 0.012987012987012988),\n",
            "   ('major', 0.012987012987012988)]),\n",
            " (4,\n",
            "  [('make', 0.04791666666666667),\n",
            "   ('people', 0.04583333333333333),\n",
            "   ('man', 0.03125),\n",
            "   ('group', 0.027083333333333334),\n",
            "   ('life', 0.025),\n",
            "   ('open', 0.020833333333333332),\n",
            "   ('abuse', 0.01875),\n",
            "   ('set', 0.01875),\n",
            "   ('omicron', 0.016666666666666666),\n",
            "   ('back', 0.014583333333333334)]),\n",
            " (5,\n",
            "  [('time', 0.036468330134357005),\n",
            "   ('show', 0.030710172744721688),\n",
            "   ('hit', 0.023032629558541268),\n",
            "   ('good', 0.02111324376199616),\n",
            "   ('price', 0.02111324376199616),\n",
            "   ('expect', 0.02111324376199616),\n",
            "   ('rise', 0.02111324376199616),\n",
            "   ('great', 0.015355086372360844),\n",
            "   ('ashe', 0.015355086372360844),\n",
            "   ('end', 0.015355086372360844)]),\n",
            " (6,\n",
            "  [('high', 0.04838709677419355),\n",
            "   ('rate', 0.03225806451612903),\n",
            "   ('covid', 0.028225806451612902),\n",
            "   ('market', 0.024193548387096774),\n",
            "   ('share', 0.020161290322580645),\n",
            "   ('record', 0.018145161290322582),\n",
            "   ('police', 0.016129032258064516),\n",
            "   ('power', 0.012096774193548387),\n",
            "   ('build', 0.012096774193548387),\n",
            "   ('move', 0.012096774193548387)]),\n",
            " (7,\n",
            "  [('vaccine', 0.025440313111545987),\n",
            "   ('reveal', 0.019569471624266144),\n",
            "   ('state', 0.019569471624266144),\n",
            "   ('ahead', 0.015655577299412915),\n",
            "   ('strike', 0.015655577299412915),\n",
            "   ('public', 0.015655577299412915),\n",
            "   ('report', 0.0136986301369863),\n",
            "   ('day', 0.0136986301369863),\n",
            "   ('ashes_t', 0.0136986301369863),\n",
            "   ('work', 0.011741682974559686)])]\n",
            "\n",
            "Coherence Score:  0.6439161204222277\n"
          ]
        }
      ]
    },
    {
      "cell_type": "code",
      "metadata": {
        "id": "IwG8sN44MR2p"
      },
      "source": [
        "def compute_coherence_values(dictionary, corpus, texts, limit, start=2, step=3):\n",
        "    \"\"\"\n",
        "    Compute c_v coherence for various number of topics\n",
        "\n",
        "    Parameters:\n",
        "    ----------\n",
        "    dictionary : Gensim dictionary\n",
        "    corpus : Gensim corpus\n",
        "    texts : List of input texts\n",
        "    limit : Max num of topics\n",
        "\n",
        "    Returns:\n",
        "    -------\n",
        "    model_list : List of LDA topic models\n",
        "    coherence_values : Coherence values corresponding to the LDA model with respective number of topics\n",
        "    \"\"\"\n",
        "    coherence_values = []\n",
        "    model_list = []\n",
        "    for num_topics in range(start, limit, step):\n",
        "        model = gensim.models.wrappers.LdaMallet(mallet_path, corpus=corpus, num_topics=num_topics, id2word=id2word)\n",
        "        model_list.append(model)\n",
        "        coherencemodel = CoherenceModel(model=model, texts=texts, dictionary=dictionary, coherence='c_v')\n",
        "        coherence_values.append(coherencemodel.get_coherence())\n",
        "\n",
        "    return model_list, coherence_values"
      ],
      "execution_count": 167,
      "outputs": []
    },
    {
      "cell_type": "code",
      "metadata": {
        "id": "jwnPocn7MRys"
      },
      "source": [
        "model_list, coherence_values = compute_coherence_values(dictionary=id2word, corpus=corpus, texts=data_lemmatized, start=2, limit=40, step=2)"
      ],
      "execution_count": 168,
      "outputs": []
    },
    {
      "cell_type": "markdown",
      "source": [
        "Tuning on the model was performed to show the optimal number of topics for the dataset, Figure 2 below shows that the coherence score continues to improve with more topics, but there is a slight decrease after 24 topics, so this has been selected as the optimal model."
      ],
      "metadata": {
        "id": "6ImbZ18-Jxkm"
      }
    },
    {
      "cell_type": "code",
      "metadata": {
        "colab": {
          "base_uri": "https://localhost:8080/",
          "height": 278
        },
        "id": "zlEcn97AMRgh",
        "outputId": "f171691a-0d06-4fda-e2e1-60e9a505da89"
      },
      "source": [
        "# Show graph\n",
        "limit=40; start=2; step=2;\n",
        "x = range(start, limit, step)\n",
        "plt.plot(x, coherence_values)\n",
        "plt.xlabel(\"Num Topics\")\n",
        "plt.ylabel(\"Coherence score\")\n",
        "plt.legend((\"coherence_values\"), loc='best')\n",
        "plt.show()\n"
      ],
      "execution_count": 169,
      "outputs": [
        {
          "output_type": "display_data",
          "data": {
            "image/png": "[encoded data removed]",
            "text/plain": [
              "<Figure size 432x288 with 1 Axes>"
            ]
          },
          "metadata": {
            "needs_background": "light"
          }
        }
      ]
    },
    {
      "cell_type": "code",
      "metadata": {
        "colab": {
          "base_uri": "https://localhost:8080/"
        },
        "id": "XU77kA8tM4X4",
        "outputId": "2fad1a27-1f0b-4526-975d-6ebaaf16fa3e"
      },
      "source": [
        "for m, cv in zip(x, coherence_values):\n",
        "    print(\"Num Topics =\", m, \" has Coherence Value of\", round(cv, 4))"
      ],
      "execution_count": 170,
      "outputs": [
        {
          "output_type": "stream",
          "name": "stdout",
          "text": [
            "Num Topics = 2  has Coherence Value of 0.5184\n",
            "Num Topics = 4  has Coherence Value of 0.5939\n",
            "Num Topics = 6  has Coherence Value of 0.6404\n",
            "Num Topics = 8  has Coherence Value of 0.657\n",
            "Num Topics = 10  has Coherence Value of 0.6456\n",
            "Num Topics = 12  has Coherence Value of 0.6489\n",
            "Num Topics = 14  has Coherence Value of 0.6783\n",
            "Num Topics = 16  has Coherence Value of 0.6662\n",
            "Num Topics = 18  has Coherence Value of 0.6741\n",
            "Num Topics = 20  has Coherence Value of 0.6835\n",
            "Num Topics = 22  has Coherence Value of 0.7018\n",
            "Num Topics = 24  has Coherence Value of 0.7094\n",
            "Num Topics = 26  has Coherence Value of 0.7088\n",
            "Num Topics = 28  has Coherence Value of 0.7039\n",
            "Num Topics = 30  has Coherence Value of 0.7259\n",
            "Num Topics = 32  has Coherence Value of 0.7259\n",
            "Num Topics = 34  has Coherence Value of 0.7281\n",
            "Num Topics = 36  has Coherence Value of 0.7328\n",
            "Num Topics = 38  has Coherence Value of 0.7272\n"
          ]
        }
      ]
    },
    {
      "cell_type": "markdown",
      "source": [
        "The results of the topic modelling are shown in Figure 3, \n",
        "\n",
        "The topic model does not automatically assign labels to each topic, each group is assigned a topic number, and contains the keywords and their probability scores. The label assigned is a manual task in which a researcher would assess the group and assign the most likely label, as Blei, et.al.  (2009) writes assigning topic labels from an underlying theme is more of an art than a science. \n"
      ],
      "metadata": {
        "id": "MCO-VSsqKjOy"
      }
    },
    {
      "cell_type": "code",
      "metadata": {
        "colab": {
          "base_uri": "https://localhost:8080/"
        },
        "id": "ExTphRQFM4Ua",
        "outputId": "cdfd2350-d294-40f5-a20a-6bcaefa3bc3c"
      },
      "source": [
        "\n",
        "optimal_model = model_list[11]\n",
        "\n",
        "model_topics = optimal_model.show_topics(formatted=False)\n",
        "pprint(optimal_model.print_topics(num_words=10))"
      ],
      "execution_count": 171,
      "outputs": [
        {
          "output_type": "stream",
          "name": "stdout",
          "text": [
            "[(2,\n",
            "  '0.091*\"man\" + 0.055*\"abuse\" + 0.042*\"join\" + 0.036*\"tv\" + 0.030*\"book\" + '\n",
            "  '0.030*\"human\" + 0.024*\"sexually\" + 0.024*\"make\" + 0.024*\"production\" + '\n",
            "  '0.024*\"issue\"'),\n",
            " (14,\n",
            "  '0.095*\"late\" + 0.071*\"group\" + 0.047*\"sell\" + 0.036*\"movie\" + 0.030*\"chief\" '\n",
            "  '+ 0.030*\"test\" + 0.030*\"month\" + 0.024*\"government\" + 0.018*\"ash\" + '\n",
            "  '0.018*\"drive\"'),\n",
            " (13,\n",
            "  '0.078*\"covid\" + 0.073*\"pay\" + 0.045*\"ahead\" + 0.039*\"long\" + 0.039*\"great\" '\n",
            "  '+ 0.028*\"day\" + 0.028*\"nee\" + 0.028*\"feel\" + 0.022*\"moment\" + 0.022*\"rule\"'),\n",
            " (10,\n",
            "  '0.055*\"ashe\" + 0.048*\"ashes_t\" + 0.041*\"save\" + 0.034*\"stream\" + '\n",
            "  '0.028*\"major\" + 0.028*\"website\" + 0.028*\"reopen\" + 0.021*\"robinhood\" + '\n",
            "  '0.021*\"line\" + 0.021*\"condition\"'),\n",
            " (22,\n",
            "  '0.067*\"year\" + 0.042*\"plan\" + 0.024*\"charge\" + 0.024*\"fast\" + 0.024*\"user\" '\n",
            "  '+ 0.024*\"budget\" + 0.024*\"asset\" + 0.018*\"talk\" + 0.018*\"agree\" + '\n",
            "  '0.018*\"demand\"'),\n",
            " (20,\n",
            "  '0.125*\"people\" + 0.034*\"give\" + 0.034*\"back\" + 0.028*\"accuse\" + '\n",
            "  '0.028*\"youth\" + 0.028*\"debt\" + 0.023*\"big\" + 0.023*\"sexual\" + 0.023*\"urge\" '\n",
            "  '+ 0.023*\"final\"'),\n",
            " (18,\n",
            "  '0.082*\"home\" + 0.076*\"family\" + 0.035*\"buy\" + 0.029*\"vaccinate\" + '\n",
            "  '0.029*\"city\" + 0.023*\"teacher\" + 0.023*\"make\" + 0.023*\"begin\" + '\n",
            "  '0.018*\"owner\" + 0.018*\"deadline\"'),\n",
            " (16,\n",
            "  '0.049*\"woman\" + 0.044*\"sector\" + 0.044*\"public\" + 0.044*\"strike\" + '\n",
            "  '0.022*\"shortage\" + 0.022*\"early\" + 0.022*\"good\" + 0.022*\"cancer\" + '\n",
            "  '0.022*\"problem\" + 0.022*\"government\"'),\n",
            " (3,\n",
            "  '0.047*\"variant\" + 0.027*\"study\" + 0.027*\"executive\" + 0.027*\"stay\" + '\n",
            "  '0.027*\"investor\" + 0.027*\"friend\" + 0.027*\"hope\" + 0.020*\"time\" + '\n",
            "  '0.020*\"positive\" + 0.020*\"deep\"'),\n",
            " (6,\n",
            "  '0.089*\"show\" + 0.067*\"price\" + 0.050*\"property\" + 0.039*\"end\" + '\n",
            "  '0.039*\"government\" + 0.039*\"race\" + 0.033*\"fall\" + 0.033*\"claim\" + '\n",
            "  '0.028*\"decision\" + 0.022*\"buyer\"'),\n",
            " (19,\n",
            "  '0.061*\"reveal\" + 0.036*\"move\" + 0.036*\"age\" + 0.030*\"watch\" + 0.024*\"spend\" '\n",
            "  '+ 0.024*\"happen\" + 0.024*\"cash\" + 0.024*\"staff\" + 0.024*\"relationship\" + '\n",
            "  '0.018*\"morning\"'),\n",
            " (9,\n",
            "  '0.092*\"set\" + 0.033*\"report\" + 0.033*\"warn\" + 0.026*\"low\" + 0.026*\"protect\" '\n",
            "  '+ 0.020*\"time\" + 0.020*\"audit\" + 0.020*\"ash\" + 0.020*\"cummin\" + '\n",
            "  '0.020*\"severe\"'),\n",
            " (7,\n",
            "  '0.087*\"vaccine\" + 0.087*\"child\" + 0.053*\"school\" + 0.047*\"world\" + '\n",
            "  '0.033*\"increase\" + 0.027*\"turn\" + 0.027*\"travel\" + 0.020*\"receive\" + '\n",
            "  '0.020*\"film\" + 0.020*\"step\"'),\n",
            " (12,\n",
            "  '0.098*\"live\" + 0.064*\"open\" + 0.058*\"share\" + 0.040*\"top\" + 0.035*\"project\" '\n",
            "  '+ 0.023*\"approval\" + 0.023*\"player\" + 0.017*\"patient\" + 0.017*\"resident\" + '\n",
            "  '0.017*\"season\"'),\n",
            " (21,\n",
            "  '0.079*\"expect\" + 0.050*\"case\" + 0.036*\"wealth\" + 0.036*\"payment\" + '\n",
            "  '0.036*\"political\" + 0.036*\"system\" + 0.029*\"program\" + 0.029*\"muscle\" + '\n",
            "  '0.029*\"report\" + 0.022*\"growth\"'),\n",
            " (5,\n",
            "  '0.083*\"make\" + 0.066*\"time\" + 0.061*\"company\" + 0.033*\"play\" + '\n",
            "  '0.033*\"local\" + 0.033*\"tax\" + 0.033*\"official\" + 0.028*\"lose\" + 0.022*\"put\" '\n",
            "  '+ 0.017*\"target\"'),\n",
            " (4,\n",
            "  '0.097*\"market\" + 0.045*\"money\" + 0.039*\"stock\" + 0.032*\"social\" + '\n",
            "  '0.032*\"housing\" + 0.032*\"full\" + 0.026*\"young\" + 0.026*\"shoot\" + '\n",
            "  '0.019*\"sex\" + 0.019*\"lift\"'),\n",
            " (1,\n",
            "  '0.135*\"high\" + 0.090*\"rate\" + 0.062*\"rise\" + 0.034*\"build\" + 0.034*\"fear\" + '\n",
            "  '0.022*\"follow\" + 0.017*\"slow\" + 0.017*\"real\" + 0.017*\"interest\" + '\n",
            "  '0.017*\"steal\"'),\n",
            " (15,\n",
            "  '0.079*\"find\" + 0.056*\"border\" + 0.051*\"week\" + 0.045*\"police\" + '\n",
            "  '0.034*\"state\" + 0.023*\"tip\" + 0.023*\"son\" + 0.023*\"test\" + 0.023*\"match\" + '\n",
            "  '0.023*\"good\"'),\n",
            " (0,\n",
            "  '0.065*\"change\" + 0.052*\"face\" + 0.039*\"run\" + 0.033*\"understand\" + '\n",
            "  '0.033*\"nation\" + 0.033*\"cricket\" + 0.033*\"experience\" + 0.026*\"launch\" + '\n",
            "  '0.026*\"raise\" + 0.020*\"melbourne\"')]\n"
          ]
        }
      ]
    },
    {
      "cell_type": "markdown",
      "source": [
        "Figure 3 shows a sample of the top 10 words in selected topic groups from the optimal number of topics modelled, topics 5, 1 and 14 appear to be related to financial or housing markets with words such as rate, budget, property, buyer, whilst topics 10 appears to align with news articles about covid-19 and vaccinations. Simply assessing the topics in this case does not allow for easy identification of labels.\n",
        "\n",
        "Implementation of our topic model against the given articles, can assist with labelling of topics, by extracting the Dominant Topic, along with the keywords and text, allows us to get a better understanding of the topic groups, Figure 4 below shows the dominant topic group assigned based on the keywords identified in the text, based on the listed documents, it is difficult to assign Topic Labels, it is clear that in document 4, an article about Pay Cummings who has been appointed Test Captain for the Australian Cricket team has interpreted “Alpha Male” as relating to relationships."
      ],
      "metadata": {
        "id": "l4FWSYBbK-oa"
      }
    },
    {
      "cell_type": "code",
      "metadata": {
        "colab": {
          "base_uri": "https://localhost:8080/",
          "height": 363
        },
        "id": "NyH3rLnQM4RI",
        "outputId": "481778cc-5222-4c95-dd4a-e9ef4d203157"
      },
      "source": [
        "def format_topics_sentences(ldamodel=lda_model, corpus=corpus, texts=data):\n",
        "    # Init output\n",
        "    sent_topics_df = pd.DataFrame()\n",
        "\n",
        "    # Get main topic in each document\n",
        "    for i, row in enumerate(ldamodel[corpus]):\n",
        "        row = sorted(row, key=lambda x: (x[1]), reverse=True)\n",
        "        # Get the Dominant topic, Perc Contribution and Keywords for each document\n",
        "        for j, (topic_num, prop_topic) in enumerate(row):\n",
        "            if j == 0:  # => dominant topic\n",
        "                wp = ldamodel.show_topic(topic_num)\n",
        "                topic_keywords = \", \".join([word for word, prop in wp])\n",
        "                sent_topics_df = sent_topics_df.append(pd.Series([int(topic_num), round(prop_topic,4), topic_keywords]), ignore_index=True)\n",
        "            else:\n",
        "                break\n",
        "    sent_topics_df.columns = ['Dominant_Topic', 'Perc_Contribution', 'Topic_Keywords']\n",
        "\n",
        "    # Add original text to the end of the output\n",
        "    contents = pd.Series(texts)\n",
        "    sent_topics_df = pd.concat([sent_topics_df, contents], axis=1)\n",
        "    return(sent_topics_df)\n",
        "\n",
        "\n",
        "df_topic_sents_keywords = format_topics_sentences(ldamodel=ldamallet, corpus=corpus, texts=data)\n",
        "\n",
        "# Format\n",
        "df_dominant_topic = df_topic_sents_keywords.reset_index()\n",
        "df_dominant_topic.columns = ['Document_No', 'Dominant_Topic', 'Topic_Perc_Contrib', 'Keywords', 'Text']\n",
        "\n",
        "# Show\n",
        "df_dominant_topic.head(10)"
      ],
      "execution_count": 175,
      "outputs": [
        {
          "output_type": "execute_result",
          "data": {
            "text/html": [
              "<div>\n",
              "<style scoped>\n",
              "    .dataframe tbody tr th:only-of-type {\n",
              "        vertical-align: middle;\n",
              "    }\n",
              "\n",
              "    .dataframe tbody tr th {\n",
              "        vertical-align: top;\n",
              "    }\n",
              "\n",
              "    .dataframe thead th {\n",
              "        text-align: right;\n",
              "    }\n",
              "</style>\n",
              "<table border=\"1\" class=\"dataframe\">\n",
              "  <thead>\n",
              "    <tr style=\"text-align: right;\">\n",
              "      <th></th>\n",
              "      <th>Document_No</th>\n",
              "      <th>Dominant_Topic</th>\n",
              "      <th>Topic_Perc_Contrib</th>\n",
              "      <th>Keywords</th>\n",
              "      <th>Text</th>\n",
              "    </tr>\n",
              "  </thead>\n",
              "  <tbody>\n",
              "    <tr>\n",
              "      <th>0</th>\n",
              "      <td>0</td>\n",
              "      <td>3.0</td>\n",
              "      <td>0.1404</td>\n",
              "      <td>home, family, follow, company, race, variant, ...</td>\n",
              "      <td>scott morrison confirms australia s diplomatic...</td>\n",
              "    </tr>\n",
              "    <tr>\n",
              "      <th>1</th>\n",
              "      <td>1</td>\n",
              "      <td>6.0</td>\n",
              "      <td>0.1609</td>\n",
              "      <td>high, rate, covid, market, share, record, poli...</td>\n",
              "      <td>desperate triple zero calls unanswered as a li...</td>\n",
              "    </tr>\n",
              "    <tr>\n",
              "      <th>2</th>\n",
              "      <td>2</td>\n",
              "      <td>2.0</td>\n",
              "      <td>0.1769</td>\n",
              "      <td>live, pay, woman, change, case, property, run,...</td>\n",
              "      <td>australia news live nsw s omicron covid cluste...</td>\n",
              "    </tr>\n",
              "    <tr>\n",
              "      <th>3</th>\n",
              "      <td>3</td>\n",
              "      <td>1.0</td>\n",
              "      <td>0.1480</td>\n",
              "      <td>late, year, child, school, ash, test, project,...</td>\n",
              "      <td>ashes first test live updates root dismissed f...</td>\n",
              "    </tr>\n",
              "    <tr>\n",
              "      <th>4</th>\n",
              "      <td>4</td>\n",
              "      <td>3.0</td>\n",
              "      <td>0.1584</td>\n",
              "      <td>home, family, follow, company, race, variant, ...</td>\n",
              "      <td>not just another alpha male how pat cummins wi...</td>\n",
              "    </tr>\n",
              "    <tr>\n",
              "      <th>5</th>\n",
              "      <td>5</td>\n",
              "      <td>6.0</td>\n",
              "      <td>0.1530</td>\n",
              "      <td>high, rate, covid, market, share, record, poli...</td>\n",
              "      <td>nathan lyon and subtleties of spin will be cru...</td>\n",
              "    </tr>\n",
              "    <tr>\n",
              "      <th>6</th>\n",
              "      <td>6</td>\n",
              "      <td>5.0</td>\n",
              "      <td>0.1623</td>\n",
              "      <td>time, show, hit, good, price, expect, rise, gr...</td>\n",
              "      <td>i don t want to attend my work christmas party...</td>\n",
              "    </tr>\n",
              "    <tr>\n",
              "      <th>7</th>\n",
              "      <td>7</td>\n",
              "      <td>2.0</td>\n",
              "      <td>0.1582</td>\n",
              "      <td>live, pay, woman, change, case, property, run,...</td>\n",
              "      <td>a hospital drama bursts out of the blocks and ...</td>\n",
              "    </tr>\n",
              "    <tr>\n",
              "      <th>8</th>\n",
              "      <td>8</td>\n",
              "      <td>2.0</td>\n",
              "      <td>0.1516</td>\n",
              "      <td>live, pay, woman, change, case, property, run,...</td>\n",
              "      <td>from susan orlean comes a book about animals e...</td>\n",
              "    </tr>\n",
              "    <tr>\n",
              "      <th>9</th>\n",
              "      <td>9</td>\n",
              "      <td>5.0</td>\n",
              "      <td>0.1449</td>\n",
              "      <td>time, show, hit, good, price, expect, rise, gr...</td>\n",
              "      <td>liberal elder baird encourages berejiklian to ...</td>\n",
              "    </tr>\n",
              "  </tbody>\n",
              "</table>\n",
              "</div>"
            ],
            "text/plain": [
              "   Document_No  ...                                               Text\n",
              "0            0  ...  scott morrison confirms australia s diplomatic...\n",
              "1            1  ...  desperate triple zero calls unanswered as a li...\n",
              "2            2  ...  australia news live nsw s omicron covid cluste...\n",
              "3            3  ...  ashes first test live updates root dismissed f...\n",
              "4            4  ...  not just another alpha male how pat cummins wi...\n",
              "5            5  ...  nathan lyon and subtleties of spin will be cru...\n",
              "6            6  ...  i don t want to attend my work christmas party...\n",
              "7            7  ...  a hospital drama bursts out of the blocks and ...\n",
              "8            8  ...  from susan orlean comes a book about animals e...\n",
              "9            9  ...  liberal elder baird encourages berejiklian to ...\n",
              "\n",
              "[10 rows x 5 columns]"
            ]
          },
          "metadata": {},
          "execution_count": 175
        }
      ]
    },
    {
      "cell_type": "code",
      "source": [
        "def format_topics_sentences(ldamodel=lda_model, corpus=corpus, texts=data):\n",
        "    # Init output\n",
        "    sent_topics_df = pd.DataFrame()\n",
        "\n",
        "    # Get main topic in each document\n",
        "    for i, row in enumerate(ldamodel[corpus]):\n",
        "        row = sorted(row, key=lambda x: (x[1]), reverse=True)\n",
        "        # Get the Dominant topic, Perc Contribution and Keywords for each document\n",
        "        for j, (topic_num, prop_topic) in enumerate(row):\n",
        "            if j == 0:  # => dominant topic\n",
        "                wp = ldamodel.show_topic(topic_num)\n",
        "                topic_keywords = \", \".join([word for word, prop in wp])\n",
        "                sent_topics_df = sent_topics_df.append(pd.Series([int(topic_num), round(prop_topic,4), topic_keywords]), ignore_index=True)\n",
        "            else:\n",
        "                break\n",
        "    sent_topics_df.columns = ['Dominant_Topic', 'Perc_Contribution', 'Topic_Keywords']\n",
        "\n",
        "    # Add original text to the end of the output\n",
        "    contents = pd.Series(texts)\n",
        "    sent_topics_df = pd.concat([sent_topics_df, contents], axis=1)\n",
        "    return(sent_topics_df)\n",
        "\n",
        "\n",
        "df_topic_sents_keywords = format_topics_sentences(ldamodel=optimal_model, corpus=corpus, texts=data)\n",
        "\n",
        "# Format\n",
        "df_dominant_topic = df_topic_sents_keywords.reset_index()\n",
        "df_dominant_topic.columns = ['Document_No', 'Dominant_Topic', 'Topic_Perc_Contrib', 'Keywords', 'Text']\n",
        "\n",
        "# Show\n",
        "df_dominant_topic.head(10)"
      ],
      "metadata": {
        "colab": {
          "base_uri": "https://localhost:8080/",
          "height": 363
        },
        "id": "XGcvLx4gCCsH",
        "outputId": "d554c2e6-ff37-48d7-c374-945e4bb9bddc"
      },
      "execution_count": 176,
      "outputs": [
        {
          "output_type": "execute_result",
          "data": {
            "text/html": [
              "<div>\n",
              "<style scoped>\n",
              "    .dataframe tbody tr th:only-of-type {\n",
              "        vertical-align: middle;\n",
              "    }\n",
              "\n",
              "    .dataframe tbody tr th {\n",
              "        vertical-align: top;\n",
              "    }\n",
              "\n",
              "    .dataframe thead th {\n",
              "        text-align: right;\n",
              "    }\n",
              "</style>\n",
              "<table border=\"1\" class=\"dataframe\">\n",
              "  <thead>\n",
              "    <tr style=\"text-align: right;\">\n",
              "      <th></th>\n",
              "      <th>Document_No</th>\n",
              "      <th>Dominant_Topic</th>\n",
              "      <th>Topic_Perc_Contrib</th>\n",
              "      <th>Keywords</th>\n",
              "      <th>Text</th>\n",
              "    </tr>\n",
              "  </thead>\n",
              "  <tbody>\n",
              "    <tr>\n",
              "      <th>0</th>\n",
              "      <td>0</td>\n",
              "      <td>13.0</td>\n",
              "      <td>0.0900</td>\n",
              "      <td>covid, pay, ahead, long, great, day, nee, feel...</td>\n",
              "      <td>scott morrison confirms australia s diplomatic...</td>\n",
              "    </tr>\n",
              "    <tr>\n",
              "      <th>1</th>\n",
              "      <td>1</td>\n",
              "      <td>17.0</td>\n",
              "      <td>0.1142</td>\n",
              "      <td>call, hit, work, economic, night, expert, iron...</td>\n",
              "      <td>desperate triple zero calls unanswered as a li...</td>\n",
              "    </tr>\n",
              "    <tr>\n",
              "      <th>2</th>\n",
              "      <td>2</td>\n",
              "      <td>0.0</td>\n",
              "      <td>0.0715</td>\n",
              "      <td>change, face, run, understand, nation, cricket...</td>\n",
              "      <td>australia news live nsw s omicron covid cluste...</td>\n",
              "    </tr>\n",
              "    <tr>\n",
              "      <th>3</th>\n",
              "      <td>3</td>\n",
              "      <td>1.0</td>\n",
              "      <td>0.0589</td>\n",
              "      <td>high, rate, rise, build, fear, follow, slow, r...</td>\n",
              "      <td>ashes first test live updates root dismissed f...</td>\n",
              "    </tr>\n",
              "    <tr>\n",
              "      <th>4</th>\n",
              "      <td>4</td>\n",
              "      <td>3.0</td>\n",
              "      <td>0.0638</td>\n",
              "      <td>variant, study, executive, stay, investor, fri...</td>\n",
              "      <td>not just another alpha male how pat cummins wi...</td>\n",
              "    </tr>\n",
              "    <tr>\n",
              "      <th>5</th>\n",
              "      <td>5</td>\n",
              "      <td>13.0</td>\n",
              "      <td>0.0858</td>\n",
              "      <td>covid, pay, ahead, long, great, day, nee, feel...</td>\n",
              "      <td>nathan lyon and subtleties of spin will be cru...</td>\n",
              "    </tr>\n",
              "    <tr>\n",
              "      <th>6</th>\n",
              "      <td>6</td>\n",
              "      <td>21.0</td>\n",
              "      <td>0.0716</td>\n",
              "      <td>expect, case, wealth, payment, political, syst...</td>\n",
              "      <td>i don t want to attend my work christmas party...</td>\n",
              "    </tr>\n",
              "    <tr>\n",
              "      <th>7</th>\n",
              "      <td>7</td>\n",
              "      <td>16.0</td>\n",
              "      <td>0.0694</td>\n",
              "      <td>woman, sector, public, strike, shortage, early...</td>\n",
              "      <td>a hospital drama bursts out of the blocks and ...</td>\n",
              "    </tr>\n",
              "    <tr>\n",
              "      <th>8</th>\n",
              "      <td>8</td>\n",
              "      <td>2.0</td>\n",
              "      <td>0.0997</td>\n",
              "      <td>man, abuse, join, tv, book, human, sexually, m...</td>\n",
              "      <td>from susan orlean comes a book about animals e...</td>\n",
              "    </tr>\n",
              "    <tr>\n",
              "      <th>9</th>\n",
              "      <td>9</td>\n",
              "      <td>2.0</td>\n",
              "      <td>0.0755</td>\n",
              "      <td>man, abuse, join, tv, book, human, sexually, m...</td>\n",
              "      <td>liberal elder baird encourages berejiklian to ...</td>\n",
              "    </tr>\n",
              "  </tbody>\n",
              "</table>\n",
              "</div>"
            ],
            "text/plain": [
              "   Document_No  ...                                               Text\n",
              "0            0  ...  scott morrison confirms australia s diplomatic...\n",
              "1            1  ...  desperate triple zero calls unanswered as a li...\n",
              "2            2  ...  australia news live nsw s omicron covid cluste...\n",
              "3            3  ...  ashes first test live updates root dismissed f...\n",
              "4            4  ...  not just another alpha male how pat cummins wi...\n",
              "5            5  ...  nathan lyon and subtleties of spin will be cru...\n",
              "6            6  ...  i don t want to attend my work christmas party...\n",
              "7            7  ...  a hospital drama bursts out of the blocks and ...\n",
              "8            8  ...  from susan orlean comes a book about animals e...\n",
              "9            9  ...  liberal elder baird encourages berejiklian to ...\n",
              "\n",
              "[10 rows x 5 columns]"
            ]
          },
          "metadata": {},
          "execution_count": 176
        }
      ]
    },
    {
      "cell_type": "code",
      "metadata": {
        "colab": {
          "base_uri": "https://localhost:8080/",
          "height": 206
        },
        "id": "EtMnlRVwM4OY",
        "outputId": "4d4634b3-fb1a-426d-c9f1-1a34bb3aa797"
      },
      "source": [
        "# Group top 5 sentences under each topic\n",
        "sent_topics_sorteddf_mallet = pd.DataFrame()\n",
        "\n",
        "sent_topics_outdf_grpd = df_topic_sents_keywords.groupby('Dominant_Topic')\n",
        "\n",
        "for i, grp in sent_topics_outdf_grpd:\n",
        "    sent_topics_sorteddf_mallet = pd.concat([sent_topics_sorteddf_mallet, \n",
        "                                             grp.sort_values(['Perc_Contribution'], ascending=[0]).head(1)], \n",
        "                                            axis=0)\n",
        "\n",
        "# Reset Index    \n",
        "sent_topics_sorteddf_mallet.reset_index(drop=True, inplace=True)\n",
        "\n",
        "# Format\n",
        "sent_topics_sorteddf_mallet.columns = ['Topic_Num', \"Topic_Perc_Contrib\", \"Keywords\", \"Text\"]\n",
        "\n",
        "# Show\n",
        "sent_topics_sorteddf_mallet.head()"
      ],
      "execution_count": 173,
      "outputs": [
        {
          "output_type": "execute_result",
          "data": {
            "text/html": [
              "<div>\n",
              "<style scoped>\n",
              "    .dataframe tbody tr th:only-of-type {\n",
              "        vertical-align: middle;\n",
              "    }\n",
              "\n",
              "    .dataframe tbody tr th {\n",
              "        vertical-align: top;\n",
              "    }\n",
              "\n",
              "    .dataframe thead th {\n",
              "        text-align: right;\n",
              "    }\n",
              "</style>\n",
              "<table border=\"1\" class=\"dataframe\">\n",
              "  <thead>\n",
              "    <tr style=\"text-align: right;\">\n",
              "      <th></th>\n",
              "      <th>Topic_Num</th>\n",
              "      <th>Topic_Perc_Contrib</th>\n",
              "      <th>Keywords</th>\n",
              "      <th>Text</th>\n",
              "    </tr>\n",
              "  </thead>\n",
              "  <tbody>\n",
              "    <tr>\n",
              "      <th>0</th>\n",
              "      <td>0.0</td>\n",
              "      <td>0.1073</td>\n",
              "      <td>change, face, run, understand, nation, cricket...</td>\n",
              "      <td>grain for hope campaign launched to raise mone...</td>\n",
              "    </tr>\n",
              "    <tr>\n",
              "      <th>1</th>\n",
              "      <td>1.0</td>\n",
              "      <td>0.1498</td>\n",
              "      <td>high, rate, rise, build, fear, follow, slow, r...</td>\n",
              "      <td>why your household budget is shrinkingclimbing...</td>\n",
              "    </tr>\n",
              "    <tr>\n",
              "      <th>2</th>\n",
              "      <td>2.0</td>\n",
              "      <td>0.1646</td>\n",
              "      <td>man, abuse, join, tv, book, human, sexually, m...</td>\n",
              "      <td>former elite swimmers come forward to accuse t...</td>\n",
              "    </tr>\n",
              "    <tr>\n",
              "      <th>3</th>\n",
              "      <td>3.0</td>\n",
              "      <td>0.0919</td>\n",
              "      <td>variant, study, executive, stay, investor, fri...</td>\n",
              "      <td>when she was six hannah suffered a massive str...</td>\n",
              "    </tr>\n",
              "    <tr>\n",
              "      <th>4</th>\n",
              "      <td>4.0</td>\n",
              "      <td>0.1171</td>\n",
              "      <td>market, money, stock, social, housing, full, y...</td>\n",
              "      <td>trump s media deal under scrutiny by market re...</td>\n",
              "    </tr>\n",
              "  </tbody>\n",
              "</table>\n",
              "</div>"
            ],
            "text/plain": [
              "   Topic_Num  ...                                               Text\n",
              "0        0.0  ...  grain for hope campaign launched to raise mone...\n",
              "1        1.0  ...  why your household budget is shrinkingclimbing...\n",
              "2        2.0  ...  former elite swimmers come forward to accuse t...\n",
              "3        3.0  ...  when she was six hannah suffered a massive str...\n",
              "4        4.0  ...  trump s media deal under scrutiny by market re...\n",
              "\n",
              "[5 rows x 4 columns]"
            ]
          },
          "metadata": {},
          "execution_count": 173
        }
      ]
    },
    {
      "cell_type": "code",
      "metadata": {
        "colab": {
          "base_uri": "https://localhost:8080/",
          "height": 363
        },
        "id": "GjeC8kEFM4Hy",
        "outputId": "6ad9d846-d2d2-4984-9e6c-e5407d20f829"
      },
      "source": [
        "# Number of Documents for Each Topic\n",
        "topic_counts = df_topic_sents_keywords['Dominant_Topic'].value_counts()\n",
        "\n",
        "# Percentage of Documents for Each Topic\n",
        "topic_contribution = round(topic_counts/topic_counts.sum(), 4)\n",
        "\n",
        "# Topic Number and Keywords\n",
        "topic_num_keywords = df_topic_sents_keywords[['Dominant_Topic', 'Topic_Keywords']]\n",
        "\n",
        "# Concatenate Column wise\n",
        "df_dominant_topics = pd.concat([topic_num_keywords, topic_counts, topic_contribution], axis=1)\n",
        "\n",
        "# Change Column names\n",
        "df_dominant_topics.columns = ['Dominant_Topic', 'Topic_Keywords', 'Num_Documents', 'Perc_Documents']\n",
        "\n",
        "# Show\n",
        "df_dominant_topics.head(10)"
      ],
      "execution_count": 177,
      "outputs": [
        {
          "output_type": "execute_result",
          "data": {
            "text/html": [
              "<div>\n",
              "<style scoped>\n",
              "    .dataframe tbody tr th:only-of-type {\n",
              "        vertical-align: middle;\n",
              "    }\n",
              "\n",
              "    .dataframe tbody tr th {\n",
              "        vertical-align: top;\n",
              "    }\n",
              "\n",
              "    .dataframe thead th {\n",
              "        text-align: right;\n",
              "    }\n",
              "</style>\n",
              "<table border=\"1\" class=\"dataframe\">\n",
              "  <thead>\n",
              "    <tr style=\"text-align: right;\">\n",
              "      <th></th>\n",
              "      <th>Dominant_Topic</th>\n",
              "      <th>Topic_Keywords</th>\n",
              "      <th>Num_Documents</th>\n",
              "      <th>Perc_Documents</th>\n",
              "    </tr>\n",
              "  </thead>\n",
              "  <tbody>\n",
              "    <tr>\n",
              "      <th>0.0</th>\n",
              "      <td>13.0</td>\n",
              "      <td>covid, pay, ahead, long, great, day, nee, feel...</td>\n",
              "      <td>18.0</td>\n",
              "      <td>0.0625</td>\n",
              "    </tr>\n",
              "    <tr>\n",
              "      <th>1.0</th>\n",
              "      <td>17.0</td>\n",
              "      <td>call, hit, work, economic, night, expert, iron...</td>\n",
              "      <td>15.0</td>\n",
              "      <td>0.0521</td>\n",
              "    </tr>\n",
              "    <tr>\n",
              "      <th>2.0</th>\n",
              "      <td>0.0</td>\n",
              "      <td>change, face, run, understand, nation, cricket...</td>\n",
              "      <td>17.0</td>\n",
              "      <td>0.0590</td>\n",
              "    </tr>\n",
              "    <tr>\n",
              "      <th>3.0</th>\n",
              "      <td>1.0</td>\n",
              "      <td>high, rate, rise, build, fear, follow, slow, r...</td>\n",
              "      <td>7.0</td>\n",
              "      <td>0.0243</td>\n",
              "    </tr>\n",
              "    <tr>\n",
              "      <th>4.0</th>\n",
              "      <td>3.0</td>\n",
              "      <td>variant, study, executive, stay, investor, fri...</td>\n",
              "      <td>14.0</td>\n",
              "      <td>0.0486</td>\n",
              "    </tr>\n",
              "    <tr>\n",
              "      <th>5.0</th>\n",
              "      <td>13.0</td>\n",
              "      <td>covid, pay, ahead, long, great, day, nee, feel...</td>\n",
              "      <td>12.0</td>\n",
              "      <td>0.0417</td>\n",
              "    </tr>\n",
              "    <tr>\n",
              "      <th>6.0</th>\n",
              "      <td>21.0</td>\n",
              "      <td>expect, case, wealth, payment, political, syst...</td>\n",
              "      <td>17.0</td>\n",
              "      <td>0.0590</td>\n",
              "    </tr>\n",
              "    <tr>\n",
              "      <th>7.0</th>\n",
              "      <td>16.0</td>\n",
              "      <td>woman, sector, public, strike, shortage, early...</td>\n",
              "      <td>16.0</td>\n",
              "      <td>0.0556</td>\n",
              "    </tr>\n",
              "    <tr>\n",
              "      <th>8.0</th>\n",
              "      <td>2.0</td>\n",
              "      <td>man, abuse, join, tv, book, human, sexually, m...</td>\n",
              "      <td>7.0</td>\n",
              "      <td>0.0243</td>\n",
              "    </tr>\n",
              "    <tr>\n",
              "      <th>9.0</th>\n",
              "      <td>2.0</td>\n",
              "      <td>man, abuse, join, tv, book, human, sexually, m...</td>\n",
              "      <td>9.0</td>\n",
              "      <td>0.0312</td>\n",
              "    </tr>\n",
              "  </tbody>\n",
              "</table>\n",
              "</div>"
            ],
            "text/plain": [
              "     Dominant_Topic  ... Perc_Documents\n",
              "0.0            13.0  ...         0.0625\n",
              "1.0            17.0  ...         0.0521\n",
              "2.0             0.0  ...         0.0590\n",
              "3.0             1.0  ...         0.0243\n",
              "4.0             3.0  ...         0.0486\n",
              "5.0            13.0  ...         0.0417\n",
              "6.0            21.0  ...         0.0590\n",
              "7.0            16.0  ...         0.0556\n",
              "8.0             2.0  ...         0.0243\n",
              "9.0             2.0  ...         0.0312\n",
              "\n",
              "[10 rows x 4 columns]"
            ]
          },
          "metadata": {},
          "execution_count": 177
        }
      ]
    },
    {
      "cell_type": "markdown",
      "source": [
        "The chosen implementation of topic modelling for the available corpus was not highly successful, the topic groupings were not specific enough to be able to assess and label the groups by a dominant feature, this limitation may be due to the nature of news headlines, where certain words are selected for their underlying properties, and to appeal to readers. Analysis of the full text of the article may produce better results, as there is not always a clear correlation between the headline and the story beneath. "
      ],
      "metadata": {
        "id": "bmtwyqp3LO3W"
      }
    }
  ]
}